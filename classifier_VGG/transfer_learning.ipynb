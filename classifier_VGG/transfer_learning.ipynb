{
 "cells": [
  {
   "cell_type": "markdown",
   "metadata": {},
   "source": [
    "# VGG Transfer Learning for Solar Flare Prediction"
   ]
  },
  {
   "cell_type": "markdown",
   "metadata": {},
   "source": [
    "jupyter notebook to perform transfer learning with the VGG16 architecture.\n",
    "\n",
    "Comments throughout the notebook indicate paths and other paramters that can be specified.\n",
    "\n",
    "Displays performance within the notebook and outputs an hdf5 model file with the trained model for each epoch (can be configured to only output the final or best model with appropriate options in the tensorflow `model.fit` call.\n",
    "\n",
    "Requires the the dataframes files as output by Build_dataframes.py and the SDO HMI AR Images corresponding to the dataframes.\n",
    "  - The dataframes for the preconfigured reduced resolution dataset `Test_Data_by_AR_png_224.csv`, `Train_Data_by_AR_png_224.csv`, and `Validation_Data_by_AR_png_224.csv` are available on Dryad at `<insert link here>` and for the full resolution dataset `Test_Data_by_AR.csv`, `Train_Data_by_AR.csv`, and `Validation_Data_by_AR.csv` are available on Dryad at `insert link here>`. It is recommended that you save the dataframes in the `classifier_VGG/` directory (i.e., the same directory as the VGG code), although subsequent code will allow you to specify the path to those files.\n",
    " - The SDO HMI AR Images are available on Dryad at `<insert link here>` (reduced resolution png files) or `<insert link here>` (full resolution fits files)). The location of the SDO HMI AR Images will be specified in subsequent code. You may save those data in the base `AR-flares/` directory or any other location.\n",
    "\n",
    "This code has only been tested on a GPU using tensorflow, but should work and/or be adaptable to CPU implementation (although the computation time would be excessive for CPU implementation).\n",
    "\n",
    "References:\n",
    "[1] L. E. Boucheron, T. Vincent, J. A. Grajeda, and E. Wuest, "Solar Active Region Magnetogram Image Dataset for Studies of Space Weather," arXiv preprint arXiv:2305.09492, 2023.\n",
    "\n",
    "Copyright 2022 Laura Boucheron, Ty Vincent\n",
    "This file is part of AR-flares\n",
    "\n",
    "AR-flares is free software: you can redistribute it and/or modify it under the terms of the GNU General Public License as published by the Free Software Foundation, either version 3 of the License, or (at your option) any later version.\n",
    "\n",
    "AR-flares is distributed in the hope that it will be useful, but WITHOUT ANY WARRANTY; without even the implied warranty of MERCHANTABILITY or FITNESS FOR A PARTICULAR PURPOSE. See the GNU General Public License for more details.\n",
    "\n",
    "You should have received a copy of the GNU General Public License along with AR-flares. If not, see <https://www.gnu.org/licenses/>.\n"
   ]
  },
  {
   "cell_type": "code",
   "execution_count": 1,
   "metadata": {},
   "outputs": [
    {
     "name": "stderr",
     "output_type": "stream",
     "text": [
      "2023-01-18 08:30:50.140648: I tensorflow/core/platform/cpu_feature_guard.cc:193] This TensorFlow binary is optimized with oneAPI Deep Neural Network Library (oneDNN) to use the following CPU instructions in performance-critical operations:  AVX2 FMA\n",
      "To enable them in other operations, rebuild TensorFlow with the appropriate compiler flags.\n",
      "2023-01-18 08:30:56.470671: W tensorflow/compiler/xla/stream_executor/platform/default/dso_loader.cc:64] Could not load dynamic library 'libnvinfer.so.7'; dlerror: libnvinfer.so.7: cannot open shared object file: No such file or directory; LD_LIBRARY_PATH: /usr/local/cuda-11.8/lib64:/home/lboucher/anaconda3/envs/HMI_classification/lib/\n",
      "2023-01-18 08:30:56.470732: W tensorflow/compiler/xla/stream_executor/platform/default/dso_loader.cc:64] Could not load dynamic library 'libnvinfer_plugin.so.7'; dlerror: libnvinfer_plugin.so.7: cannot open shared object file: No such file or directory; LD_LIBRARY_PATH: /usr/local/cuda-11.8/lib64:/home/lboucher/anaconda3/envs/HMI_classification/lib/\n",
      "2023-01-18 08:30:56.470737: W tensorflow/compiler/tf2tensorrt/utils/py_utils.cc:38] TF-TRT Warning: Cannot dlopen some TensorRT libraries. If you would like to use Nvidia GPU with TensorRT, please make sure the missing libraries mentioned above are installed properly.\n"
     ]
    }
   ],
   "source": [
    "import numpy as np\n",
    "import pandas as pd\n",
    "from astropy.io import fits\n",
    "import skimage.transform\n",
    "\n",
    "import tensorflow.keras as keras"
   ]
  },
  {
   "cell_type": "markdown",
   "metadata": {},
   "source": [
    "The following code cell can avoid cuDNN errors resulting from running out of GPU memory by allocating only what is needed at any given time.  This may be needed, especially if you are sharing your GPU with other processes (e.g., running your monitor)."
   ]
  },
  {
   "cell_type": "code",
   "execution_count": 3,
   "metadata": {},
   "outputs": [],
   "source": [
    "# # This is to avoid CuDNN errors resulting from running out of GPU memory\n",
    "# # This allocates only what is needed at any given time\n",
    "# gpus = tf.config.list_physical_devices('GPU')\n",
    "# tf.config.experimental.set_memory_growth(gpus[0], True)"
   ]
  },
  {
   "cell_type": "markdown",
   "metadata": {},
   "source": [
    "Set the following flag to designate whether you are working with `.png` files or `.fits` files.  This flag will be used to use the correct dataloaders for each file type.  Note that the use of `.fits` files requires the use of a specialized dataloader (included below)."
   ]
  },
  {
   "cell_type": "code",
   "execution_count": 4,
   "metadata": {},
   "outputs": [],
   "source": [
    "image_type = 'png' # 'png' or 'fits'"
   ]
  },
  {
   "cell_type": "markdown",
   "metadata": {},
   "source": [
    "Instantiate the VGG16 architecture pretrained on imagenet."
   ]
  },
  {
   "cell_type": "code",
   "execution_count": 5,
   "metadata": {},
   "outputs": [
    {
     "name": "stderr",
     "output_type": "stream",
     "text": [
      "2023-01-18 08:31:25.658235: I tensorflow/compiler/xla/stream_executor/cuda/cuda_gpu_executor.cc:981] successful NUMA node read from SysFS had negative value (-1), but there must be at least one NUMA node, so returning NUMA node zero\n",
      "2023-01-18 08:31:25.658609: I tensorflow/compiler/xla/stream_executor/cuda/cuda_gpu_executor.cc:981] successful NUMA node read from SysFS had negative value (-1), but there must be at least one NUMA node, so returning NUMA node zero\n",
      "2023-01-18 08:31:25.753725: I tensorflow/compiler/xla/stream_executor/cuda/cuda_gpu_executor.cc:981] successful NUMA node read from SysFS had negative value (-1), but there must be at least one NUMA node, so returning NUMA node zero\n",
      "2023-01-18 08:31:25.754156: I tensorflow/compiler/xla/stream_executor/cuda/cuda_gpu_executor.cc:981] successful NUMA node read from SysFS had negative value (-1), but there must be at least one NUMA node, so returning NUMA node zero\n",
      "2023-01-18 08:31:25.754520: I tensorflow/compiler/xla/stream_executor/cuda/cuda_gpu_executor.cc:981] successful NUMA node read from SysFS had negative value (-1), but there must be at least one NUMA node, so returning NUMA node zero\n",
      "2023-01-18 08:31:25.754840: I tensorflow/compiler/xla/stream_executor/cuda/cuda_gpu_executor.cc:981] successful NUMA node read from SysFS had negative value (-1), but there must be at least one NUMA node, so returning NUMA node zero\n",
      "2023-01-18 08:31:25.762933: I tensorflow/core/platform/cpu_feature_guard.cc:193] This TensorFlow binary is optimized with oneAPI Deep Neural Network Library (oneDNN) to use the following CPU instructions in performance-critical operations:  AVX2 FMA\n",
      "To enable them in other operations, rebuild TensorFlow with the appropriate compiler flags.\n",
      "2023-01-18 08:31:25.900942: I tensorflow/compiler/xla/stream_executor/cuda/cuda_gpu_executor.cc:981] successful NUMA node read from SysFS had negative value (-1), but there must be at least one NUMA node, so returning NUMA node zero\n",
      "2023-01-18 08:31:25.901157: I tensorflow/compiler/xla/stream_executor/cuda/cuda_gpu_executor.cc:981] successful NUMA node read from SysFS had negative value (-1), but there must be at least one NUMA node, so returning NUMA node zero\n",
      "2023-01-18 08:31:25.901345: I tensorflow/compiler/xla/stream_executor/cuda/cuda_gpu_executor.cc:981] successful NUMA node read from SysFS had negative value (-1), but there must be at least one NUMA node, so returning NUMA node zero\n",
      "2023-01-18 08:31:25.901520: I tensorflow/compiler/xla/stream_executor/cuda/cuda_gpu_executor.cc:981] successful NUMA node read from SysFS had negative value (-1), but there must be at least one NUMA node, so returning NUMA node zero\n",
      "2023-01-18 08:31:25.901699: I tensorflow/compiler/xla/stream_executor/cuda/cuda_gpu_executor.cc:981] successful NUMA node read from SysFS had negative value (-1), but there must be at least one NUMA node, so returning NUMA node zero\n",
      "2023-01-18 08:31:25.901872: I tensorflow/compiler/xla/stream_executor/cuda/cuda_gpu_executor.cc:981] successful NUMA node read from SysFS had negative value (-1), but there must be at least one NUMA node, so returning NUMA node zero\n",
      "2023-01-18 08:31:29.092225: I tensorflow/compiler/xla/stream_executor/cuda/cuda_gpu_executor.cc:981] successful NUMA node read from SysFS had negative value (-1), but there must be at least one NUMA node, so returning NUMA node zero\n",
      "2023-01-18 08:31:29.092526: I tensorflow/compiler/xla/stream_executor/cuda/cuda_gpu_executor.cc:981] successful NUMA node read from SysFS had negative value (-1), but there must be at least one NUMA node, so returning NUMA node zero\n",
      "2023-01-18 08:31:29.099547: I tensorflow/compiler/xla/stream_executor/cuda/cuda_gpu_executor.cc:981] successful NUMA node read from SysFS had negative value (-1), but there must be at least one NUMA node, so returning NUMA node zero\n",
      "2023-01-18 08:31:29.099792: I tensorflow/compiler/xla/stream_executor/cuda/cuda_gpu_executor.cc:981] successful NUMA node read from SysFS had negative value (-1), but there must be at least one NUMA node, so returning NUMA node zero\n",
      "2023-01-18 08:31:29.100029: I tensorflow/compiler/xla/stream_executor/cuda/cuda_gpu_executor.cc:981] successful NUMA node read from SysFS had negative value (-1), but there must be at least one NUMA node, so returning NUMA node zero\n",
      "2023-01-18 08:31:29.104449: I tensorflow/core/common_runtime/gpu/gpu_device.cc:1613] Created device /job:localhost/replica:0/task:0/device:GPU:0 with 11405 MB memory:  -> device: 0, name: NVIDIA TITAN Xp, pci bus id: 0000:49:00.0, compute capability: 6.1\n",
      "2023-01-18 08:31:29.109354: I tensorflow/compiler/xla/stream_executor/cuda/cuda_gpu_executor.cc:981] successful NUMA node read from SysFS had negative value (-1), but there must be at least one NUMA node, so returning NUMA node zero\n",
      "2023-01-18 08:31:29.109555: I tensorflow/core/common_runtime/gpu/gpu_device.cc:1613] Created device /job:localhost/replica:0/task:0/device:GPU:1 with 1616 MB memory:  -> device: 1, name: NVIDIA GeForce GTX 970, pci bus id: 0000:21:00.0, compute capability: 5.2\n"
     ]
    }
   ],
   "source": [
    "model1 = keras.applications.vgg16.VGG16(include_top=True,weights='imagenet')"
   ]
  },
  {
   "cell_type": "markdown",
   "metadata": {},
   "source": [
    "Replace the output layer with a 2-class softmax layer."
   ]
  },
  {
   "cell_type": "code",
   "execution_count": 6,
   "metadata": {},
   "outputs": [],
   "source": [
    "model1 = keras.models.Model(inputs=model1.input,outputs=model1.layers[-2].output) # amputate last dense layer\n",
    "new_output = model1.output # take the output as currently defined\n",
    "new_output = keras.layers.Dense(2,activation='softmax')(new_output) # operate on that output with another dense layer\n",
    "model1 = keras.models.Model(inputs=model1.input,outputs=new_output) # define a new model with the new output"
   ]
  },
  {
   "cell_type": "markdown",
   "metadata": {},
   "source": [
    "Freeze all layers except the last layer."
   ]
  },
  {
   "cell_type": "code",
   "execution_count": 7,
   "metadata": {},
   "outputs": [],
   "source": [
    "for layer in model1.layers[:-1]:\n",
    "    layer.trainable=False"
   ]
  },
  {
   "cell_type": "markdown",
   "metadata": {},
   "source": [
    "## Custom Data Generator for fits files"
   ]
  },
  {
   "cell_type": "markdown",
   "metadata": {},
   "source": [
    "The following class defines a custom data generator for fits files.  \n",
    "\n",
    "Approach taken from https://medium.com/analytics-vidhya/write-your-own-custom-data-generator-for-tensorflow-keras-1252b64e41c3\n",
    "\n",
    "From https://www.tensorflow.org/api_docs/python/tf/keras/utils/Sequence: \"Sequence are a safer way to do multiprocessing. This structure guarantees that the network will only train once on each sample per epoch which is not the case with generators.\""
   ]
  },
  {
   "cell_type": "code",
   "execution_count": 8,
   "metadata": {},
   "outputs": [],
   "source": [
    "class FitsDataGen(keras.utils.Sequence):\n",
    "    # The input to the data generator will be the dataframe and which columns to use\n",
    "    def __init__(self, df, X_col, y_col,\n",
    "                 directory,\n",
    "                 batch_size,\n",
    "                 input_size=(224, 224, 3),\n",
    "                 shuffle=True):\n",
    "        \n",
    "        self.df = df.copy() # dataframe\n",
    "        self.X_col = X_col # column for X data (filename)\n",
    "        self.y_col = y_col # column for y data (class label)\n",
    "        self.directory = directory # base directory for data\n",
    "        self.batch_size = batch_size # batch size\n",
    "        self.input_size = input_size # size expected by network (224,224,3) for VGG\n",
    "        self.shuffle = shuffle # whether to shuffle batches\n",
    "        \n",
    "        self.n = len(self.df) # number of data points\n",
    "        self.nclasses = df[y_col].nunique() # number of classes\n",
    "            \n",
    "    def on_epoch_end(self):\n",
    "        if self.shuffle:\n",
    "            self.df = self.df.sample(frac=1).reset_index(drop=True)\n",
    "    \n",
    "    def __get_input(self, path, directory, input_size):\n",
    "    \n",
    "        with fits.open(directory+path) as img: # read in fits image\n",
    "            img.verify('silentfix')\n",
    "            img = img[1].data\n",
    "            \n",
    "        img = np.expand_dims(img,axis=2) # copy single channel to three to create rgb dimensioned image\n",
    "        img = np.tile(img,(1,1,3))\n",
    "        \n",
    "        # scale to input_size (expected dimensions for input to network)\n",
    "        img = skimage.transform.resize(img, (input_size[0],input_size[1]), order=1, mode='reflect',\\\n",
    "                                       clip=True, preserve_range=True, anti_aliasing=True)\n",
    "        \n",
    "        # scale intensities to range [0,255] as expected by VGG preprocessing function\n",
    "        # can cheat a bit here and treat each channel the same since these are grayscale images\n",
    "        img = img + 5978.7 # -5978.7 is minimum of entire magnetogram dataset\n",
    "        img = img/(2*5978.7)*255 # +5978.7 is maximum of entire magnetogram dataset        \n",
    "        \n",
    "        img = keras.applications.vgg16.preprocess_input(img) # preprocess according to VGG expectations\n",
    "\n",
    "        return img\n",
    "    \n",
    "    def __get_output(self, label, num_classes):\n",
    "        return keras.utils.to_categorical(label, num_classes=num_classes)\n",
    "    \n",
    "    def __get_data(self, batches):\n",
    "        # Generates data containing batch_size samples\n",
    "\n",
    "        path_batch = batches[self.X_col]\n",
    "        \n",
    "        label_batch = batches[self.y_col]\n",
    "\n",
    "        X_batch = np.asarray([self.__get_input(x, self.directory, self.input_size) for x in path_batch])\n",
    "\n",
    "        y_batch = np.asarray([self.__get_output(y, self.nclasses) for y in label_batch])\n",
    "        \n",
    "        return X_batch, y_batch\n",
    "    \n",
    "    def __getitem__(self, index):\n",
    "        \n",
    "        batches = self.df[index * self.batch_size:(index + 1) * self.batch_size]\n",
    "        X, y = self.__get_data(batches)        \n",
    "        return X, y\n",
    "    \n",
    "    def __len__(self):\n",
    "        return self.n // self.batch_size"
   ]
  },
  {
   "cell_type": "markdown",
   "metadata": {},
   "source": [
    "Read in dataframe specifying file locations for train, val, test.  Change these locations as needed."
   ]
  },
  {
   "cell_type": "code",
   "execution_count": 9,
   "metadata": {},
   "outputs": [],
   "source": [
    "if image_type=='fits':\n",
    "    train_df = pd.read_csv('Train_Data_by_AR.csv',dtype=str)\n",
    "    val_df = pd.read_csv('Validation_Data_by_AR.csv',dtype=str)\n",
    "    test_df = pd.read_csv('Test_Data_by_AR.csv',dtype=str)"
   ]
  },
  {
   "cell_type": "markdown",
   "metadata": {},
   "source": [
    "Create data generators using custom class defined above.  Change the `directory` parameter to point to the base directory for the fits files.  It is assumed that the directory structure underneath `directory` is of the form `XXXX/` where `XXXX` are four digit AR region numbers and that each `XXXX/` directory contains all `.fits` files associated with that AR."
   ]
  },
  {
   "cell_type": "code",
   "execution_count": 10,
   "metadata": {},
   "outputs": [],
   "source": [
    "if image_type=='fits':\n",
    "    train_generator = FitsDataGen(train_df, X_col='filename', y_col='class',\\\n",
    "                                  directory='/mnt/solar_flares/AR_Dataset/Lat60_Lon60_Nans0/',\\\n",
    "                                  batch_size=64, input_size=(224,224,3), shuffle=True)\n",
    "    val_generator = FitsDataGen(val_df, X_col='filename', y_col='class',\\\n",
    "                                directory='/mnt/solar_flares/AR_Dataset/Lat60_Lon60_Nans0/',\\\n",
    "                                batch_size=64, input_size=(224,224,3), shuffle=True)\n",
    "    test_generator = FitsDataGen(test_df, X_col='filename', y_col='class',\\\n",
    "                                directory='/mnt/solar_flares/AR_Dataset/Lat60_Lon60_Nans0/',\\\n",
    "                                batch_size=64, input_size=(224,224,3), shuffle=True)"
   ]
  },
  {
   "cell_type": "markdown",
   "metadata": {},
   "source": [
    "## Dataframe approach for png files"
   ]
  },
  {
   "cell_type": "markdown",
   "metadata": {},
   "source": [
    "The following cells implement a data generator for `png` files using the native `ImageDataGenerator` class in `tensorflow.keras`."
   ]
  },
  {
   "cell_type": "markdown",
   "metadata": {},
   "source": [
    "Read in dataframe specifying file locations for train, val, test.  Change these locations as needed."
   ]
  },
  {
   "cell_type": "code",
   "execution_count": 11,
   "metadata": {},
   "outputs": [],
   "source": [
    "if image_type=='png':\n",
    "    train_df = pd.read_csv('Train_Data_by_AR_png_224.csv',dtype=str)\n",
    "    val_df = pd.read_csv('Validation_Data_by_AR_png_224.csv',dtype=str)\n",
    "    test_df = pd.read_csv('Test_Data_by_AR_png_224.csv',dtype=str)"
   ]
  },
  {
   "cell_type": "markdown",
   "metadata": {},
   "source": [
    "Create data generators using the `ImageDataGenerator` class. Change the directory parameter to point to the base directory for the png files. It is assumed that the directory structure underneath directory is of the form `XXXX/` where `XXXX` are four digit AR region numbers and that each `XXXX/` directory contains all .png files associated with that AR."
   ]
  },
  {
   "cell_type": "markdown",
   "metadata": {},
   "source": [
    "Note--this code cell can take a long time to run the first time."
   ]
  },
  {
   "cell_type": "code",
   "execution_count": 23,
   "metadata": {},
   "outputs": [
    {
     "name": "stdout",
     "output_type": "stream",
     "text": [
      "Found 759357 validated image filenames belonging to 2 classes.\n",
      "Found 95933 validated image filenames belonging to 2 classes.\n",
      "Found 94757 validated image filenames belonging to 2 classes.\n"
     ]
    }
   ],
   "source": [
    "if image_type=='png':\n",
    "    train_datagen = keras.preprocessing.image.ImageDataGenerator(preprocessing_function=keras.applications.vgg16.preprocess_input)\n",
    "    train_generator = train_datagen.flow_from_dataframe(dataframe=train_df,\\\n",
    "                                                        directory='/mnt/solar_flares/AR_Dataset/Lat60_Lon60_Nans0_png_224/',\\\n",
    "                                                        xcol='filename',y_col='class',\\\n",
    "                                                        target_size=(224,224), color_mode='rgb',\\\n",
    "                                                        batch_size=64, class_mode='categorical',\\\n",
    "                                                        shuffle=True)\n",
    "    val_datagen = keras.preprocessing.image.ImageDataGenerator(preprocessing_function=keras.applications.vgg16.preprocess_input)\n",
    "    val_generator = val_datagen.flow_from_dataframe(dataframe=val_df,\\\n",
    "                                                    directory = '/mnt/solar_flares/AR_Dataset/Lat60_Lon60_Nans0_png_224/',\\\n",
    "                                                    xcol='filename',ycol='class',\\\n",
    "                                                    target_size=(224,224), color_mode='rgb',\\\n",
    "                                                        batch_size=64, class_mode='categorical',\\\n",
    "                                                shuffle=True)\n",
    "    test_datagen = keras.preprocessing.image.ImageDataGenerator(preprocessing_function=keras.applications.vgg16.preprocess_input)\n",
    "    test_generator = test_datagen.flow_from_dataframe(dataframe=test_df,\\\n",
    "                                                    directory = '/mnt/solar_flares/AR_Dataset/Lat60_Lon60_Nans0_png_224/',\\\n",
    "                                                    xcol='filename',ycol='class',\\\n",
    "                                                    target_size=(224,224), color_mode='rgb',\\\n",
    "                                                    batch_size=64, class_mode='categorical',\\\n",
    "                                                    shuffle=True)"
   ]
  },
  {
   "cell_type": "markdown",
   "metadata": {},
   "source": [
    "## Training Setup"
   ]
  },
  {
   "cell_type": "markdown",
   "metadata": {},
   "source": [
    "Define custom metrics for true positive rate (TPR), true negative rate (TNR), Heidke Skill Score (HSS), and True Skill Statistic (TSS).  It is necessary to define these custom metrics to appropriately report batch to batch.  Since they are not linear metrics, you cannot simply average the batch reported metric.\n",
    "\n",
    "Adapted from section \"Creating Custom Metrics\" at https://keras.io/api/metrics/"
   ]
  },
  {
   "cell_type": "code",
   "execution_count": 22,
   "metadata": {},
   "outputs": [],
   "source": [
    "# custom metrics since these will not average batch to batch\n",
    "class TNR(keras.metrics.Metric):\n",
    "    def __init__(self, name='TNR', **kwargs):\n",
    "        super(TNR, self).__init__(name=name, **kwargs)\n",
    "        self.TN = self.add_weight(name='TN', initializer='zeros')\n",
    "        self.FP = self.add_weight(name='FP', initializer='zeros')\n",
    "        self.TNR = self.add_weight(name='TNR', initializer='zeros')\n",
    "\n",
    "    def update_state(self, y_true, y_pred, sample_weight=None):\n",
    "        y_true = keras.backend.argmax(y_true)\n",
    "        y_pred = keras.backend.argmax(y_pred)\n",
    "        neg_y_true = 1 - y_true\n",
    "        neg_y_pred = 1 - y_pred\n",
    "        fp = keras.backend.cast(keras.backend.sum(neg_y_true * y_pred),'float32')\n",
    "        tn = keras.backend.cast(keras.backend.sum(neg_y_true * neg_y_pred),'float32')\n",
    "        \n",
    "        self.TN.assign_add(tn)\n",
    "        self.FP.assign_add(fp)\n",
    "        \n",
    "        tnr = self.TN / (self.TN + self.FP + keras.backend.epsilon())\n",
    "        \n",
    "        self.TNR.assign(tnr)\n",
    "\n",
    "    def result(self):\n",
    "        return self.TNR\n",
    "\n",
    "    def reset_states(self):\n",
    "        self.TN.assign(0)\n",
    "        self.FP.assign(0)\n",
    "        self.TNR.assign(0)\n",
    "        \n",
    "class TPR(keras.metrics.Metric):\n",
    "    def __init__(self, name='TPR', **kwargs):\n",
    "        super(TPR, self).__init__(name=name, **kwargs)\n",
    "        self.TP = self.add_weight(name='TP', initializer='zeros')\n",
    "        self.FN = self.add_weight(name='FN', initializer='zeros')\n",
    "        self.TPR = self.add_weight(name='TPR', initializer='zeros')\n",
    "\n",
    "    def update_state(self, y_true, y_pred, sample_weight=None):\n",
    "        y_true = keras.backend.argmax(y_true)\n",
    "        y_pred = keras.backend.argmax(y_pred)\n",
    "        neg_y_pred = 1 - y_pred\n",
    "        fn = keras.backend.cast(keras.backend.sum(y_true * neg_y_pred),'float32')\n",
    "        tp = keras.backend.cast(keras.backend.sum(y_true * y_pred),'float32')\n",
    "        \n",
    "        self.TP.assign_add(tp)\n",
    "        self.FN.assign_add(fn)\n",
    "        \n",
    "        tpr = self.TP / (self.TP + self.FN + keras.backend.epsilon())\n",
    "        \n",
    "        self.TPR.assign(tpr)\n",
    "\n",
    "    def result(self):\n",
    "        return self.TPR\n",
    "\n",
    "    def reset_states(self):\n",
    "        self.TP.assign(0)\n",
    "        self.FN.assign(0)\n",
    "        self.TPR.assign(0)\n",
    "        \n",
    "class TSS(keras.metrics.Metric):\n",
    "    def __init__(self, name='TSS', **kwargs):\n",
    "        super(TSS, self).__init__(name=name, **kwargs)\n",
    "        self.TP = self.add_weight(name='TP', initializer='zeros')\n",
    "        self.TN = self.add_weight(name='TN', initializer='zeros')\n",
    "        self.FP = self.add_weight(name='FP', initializer='zeros')\n",
    "        self.FN = self.add_weight(name='FN', initializer='zeros')\n",
    "        self.TSS = self.add_weight(name='TSS', initializer='zeros')\n",
    "\n",
    "    def update_state(self, y_true, y_pred, sample_weight=None):\n",
    "        y_true = keras.backend.argmax(y_true)\n",
    "        y_pred = keras.backend.argmax(y_pred)\n",
    "        neg_y_true = 1 - y_true\n",
    "        neg_y_pred = 1 - y_pred\n",
    "        fp = keras.backend.cast(keras.backend.sum(neg_y_true * y_pred),'float32')\n",
    "        tn = keras.backend.cast(keras.backend.sum(neg_y_true * neg_y_pred),'float32')\n",
    "        fn = keras.backend.cast(keras.backend.sum(y_true * neg_y_pred),'float32')\n",
    "        tp = keras.backend.cast(keras.backend.sum(y_true * y_pred),'float32')\n",
    "        \n",
    "        self.TP.assign_add(tp)\n",
    "        self.TN.assign_add(tn)\n",
    "        self.FP.assign_add(fp)\n",
    "        self.FN.assign_add(fn)\n",
    "        \n",
    "        tnr = self.TN / (self.TN + self.FP + keras.backend.epsilon())\n",
    "        tpr = self.TP / (self.TP + self.FN + keras.backend.epsilon())\n",
    "        tss = tpr + tnr - 1\n",
    "       \n",
    "        self.TSS.assign(tss)\n",
    "\n",
    "    def result(self):\n",
    "        return self.TSS\n",
    "\n",
    "    def reset_states(self):\n",
    "        self.TP.assign(0)\n",
    "        self.TN.assign(0)\n",
    "        self.FP.assign(0)\n",
    "        self.FN.assign(0)\n",
    "        self.TSS.assign(0)\n",
    "        \n",
    "class HSS(keras.metrics.Metric):\n",
    "    def __init__(self, name='HSS', **kwargs):\n",
    "        super(HSS, self).__init__(name=name, **kwargs)\n",
    "        self.TP = self.add_weight(name='TP', initializer='zeros')\n",
    "        self.TN = self.add_weight(name='TN', initializer='zeros')\n",
    "        self.FP = self.add_weight(name='FP', initializer='zeros')\n",
    "        self.FN = self.add_weight(name='FN', initializer='zeros')\n",
    "        self.HSS = self.add_weight(name='HSS', initializer='zeros')\n",
    "\n",
    "    def update_state(self, y_true, y_pred, sample_weight=None):\n",
    "        y_true = keras.backend.argmax(y_true)\n",
    "        y_pred = keras.backend.argmax(y_pred)\n",
    "        neg_y_true = 1 - y_true\n",
    "        neg_y_pred = 1 - y_pred\n",
    "        fp = keras.backend.cast(keras.backend.sum(neg_y_true * y_pred),'float32')\n",
    "        tn = keras.backend.cast(keras.backend.sum(neg_y_true * neg_y_pred),'float32')\n",
    "        fn = keras.backend.cast(keras.backend.sum(y_true * neg_y_pred),'float32')\n",
    "        tp = keras.backend.cast(keras.backend.sum(y_true * y_pred),'float32')\n",
    "        \n",
    "        self.TP.assign_add(tp)\n",
    "        self.TN.assign_add(tn)\n",
    "        self.FP.assign_add(fp)\n",
    "        self.FN.assign_add(fn)\n",
    "        \n",
    "        hss = 2*(self.TP*self.TN-self.FN*self.FP)/((self.TP+self.FN)*(self.FN+self.TN)+(self.TP+self.FP)*(self.FP+self.TN))\n",
    "       \n",
    "        self.HSS.assign(hss)\n",
    "\n",
    "    def result(self):\n",
    "        return self.HSS\n",
    "\n",
    "    def reset_states(self):\n",
    "        self.TP.assign(0)\n",
    "        self.TN.assign(0)\n",
    "        self.FP.assign(0)\n",
    "        self.FN.assign(0)\n",
    "        self.HSS.assign(0)\n",
    "        \n",
    "class TN(keras.metrics.Metric):\n",
    "    def __init__(self, name='TN', **kwargs):\n",
    "        super(TN, self).__init__(name=name, **kwargs)\n",
    "        self.TN = self.add_weight(name='TN', initializer='zeros')\n",
    "\n",
    "    def update_state(self, y_true, y_pred, sample_weight=None):\n",
    "        y_true = keras.backend.argmax(y_true)\n",
    "        y_pred = keras.backend.argmax(y_pred)\n",
    "        neg_y_true = 1 - y_true\n",
    "        neg_y_pred = 1 - y_pred\n",
    "        tn = keras.backend.cast(keras.backend.sum(neg_y_true * neg_y_pred),'float32')\n",
    "\n",
    "        self.TN.assign_add(tn)\n",
    "\n",
    "    def result(self):\n",
    "        return self.TN\n",
    "\n",
    "    def reset_states(self):\n",
    "        self.TN.assign(0)\n",
    "        \n",
    "class TP(keras.metrics.Metric):\n",
    "    def __init__(self, name='TP', **kwargs):\n",
    "        super(TP, self).__init__(name=name, **kwargs)\n",
    "        self.TP = self.add_weight(name='FP', initializer='zeros')\n",
    "\n",
    "    def update_state(self, y_true, y_pred, sample_weight=None):\n",
    "        y_true = keras.backend.argmax(y_true)\n",
    "        y_pred = keras.backend.argmax(y_pred)\n",
    "        tp = keras.backend.cast(keras.backend.sum(y_true * y_pred),'float32')\n",
    "\n",
    "        self.TP.assign_add(tp)\n",
    "\n",
    "    def result(self):\n",
    "        return self.TP\n",
    "\n",
    "    def reset_states(self):\n",
    "        self.TP.assign(0)\n",
    "        \n",
    "class FN(keras.metrics.Metric):\n",
    "    def __init__(self, name='FN', **kwargs):\n",
    "        super(FN, self).__init__(name=name, **kwargs)\n",
    "        self.FN = self.add_weight(name='FN', initializer='zeros')\n",
    "\n",
    "    def update_state(self, y_true, y_pred, sample_weight=None):\n",
    "        y_true = keras.backend.argmax(y_true)\n",
    "        y_pred = keras.backend.argmax(y_pred)\n",
    "        neg_y_pred = 1 - y_pred\n",
    "        fn = keras.backend.cast(keras.backend.sum(y_true * neg_y_pred),'float32')\n",
    "\n",
    "        self.FN.assign_add(fn)\n",
    "\n",
    "    def result(self):\n",
    "        return self.FN\n",
    "\n",
    "    def reset_states(self):\n",
    "        self.FN.assign(0)\n",
    "        \n",
    "class FP(keras.metrics.Metric):\n",
    "    def __init__(self, name='FP', **kwargs):\n",
    "        super(FP, self).__init__(name=name, **kwargs)\n",
    "        self.FP = self.add_weight(name='FP', initializer='zeros')\n",
    "\n",
    "    def update_state(self, y_true, y_pred, sample_weight=None):\n",
    "        y_true = keras.backend.argmax(y_true)\n",
    "        y_pred = keras.backend.argmax(y_pred)\n",
    "        neg_y_true = 1 - y_true\n",
    "        fp = keras.backend.cast(keras.backend.sum(neg_y_true * y_pred),'float32')\n",
    "\n",
    "        self.FP.assign_add(fp)\n",
    "\n",
    "    def result(self):\n",
    "        return self.FP\n",
    "\n",
    "    def reset_states(self):\n",
    "        self.FP.assign(0)"
   ]
  },
  {
   "cell_type": "markdown",
   "metadata": {},
   "source": [
    "Define optimizer."
   ]
  },
  {
   "cell_type": "code",
   "execution_count": 15,
   "metadata": {},
   "outputs": [],
   "source": [
    "adam_opt = keras.optimizers.Adam(learning_rate=0.001)\n",
    "model1.compile(loss='categorical_crossentropy', optimizer=adam_opt,\\\n",
    "               metrics=[TNR(), TPR(), TSS()])"
   ]
  },
  {
   "cell_type": "markdown",
   "metadata": {},
   "source": [
    "Set up remaining training parameters.  Set `results_dir` to desired output directory.  This is where models will be saved each epoch.  To save only the best model, change the `save_best_only` parameter in the `checkpoint` variable to `True`.  The classes are weighted such that non-flares (majority) are weighted 1 and flares (minority) are weighted as $N_n/N_f$ where $N_n$ is the number of non-flaring examples and $N_f$ is the number of flaring examples."
   ]
  },
  {
   "cell_type": "code",
   "execution_count": 16,
   "metadata": {},
   "outputs": [],
   "source": [
    "results_dir = 'png'\n",
    "\n",
    "filepath = 'models/'+results_dir+'/model.{epoch:02d}_{val_TSS:.2f}.hdf5'\n",
    "checkpoint = keras.callbacks.ModelCheckpoint(filepath, monitor='val_TSS', verbose=1, save_best_only=False, mode='max')\n",
    "callbacks_list = [checkpoint]\n",
    "\n",
    "step_size_train = np.ceil(train_generator.n/train_generator.batch_size) \n",
    "step_size_val = np.ceil(val_generator.n/val_generator.batch_size)\n",
    "\n",
    "# the following assumes that 0 is the majority class\n",
    "class_weights = {0:1., 1: (train_df['class']=='0').sum()/(train_df['class']=='1').sum()}"
   ]
  },
  {
   "cell_type": "markdown",
   "metadata": {},
   "source": [
    "## Training"
   ]
  },
  {
   "cell_type": "markdown",
   "metadata": {},
   "source": [
    "Especially for the fits dataset, the file I/O will likely be a significant bottleneck.  Code is provided below for both single-threaded implementation and multi-threaded implementation.  The multi-threaded implementation can case nondeterministic deadlocks (as will likely be reported as a warning by tensorflow), but can significantly speed up training."
   ]
  },
  {
   "cell_type": "markdown",
   "metadata": {},
   "source": [
    "### Single threaded"
   ]
  },
  {
   "cell_type": "code",
   "execution_count": 15,
   "metadata": {
    "scrolled": false
   },
   "outputs": [
    {
     "name": "stdout",
     "output_type": "stream",
     "text": [
      "Epoch 1/5\n"
     ]
    },
    {
     "name": "stderr",
     "output_type": "stream",
     "text": [
      "2023-01-13 14:57:02.336664: I tensorflow/compiler/xla/stream_executor/cuda/cuda_dnn.cc:428] Loaded cuDNN version 8100\n",
      "2023-01-13 14:57:07.231705: I tensorflow/compiler/xla/service/service.cc:173] XLA service 0x7f192400dd00 initialized for platform CUDA (this does not guarantee that XLA will be used). Devices:\n",
      "2023-01-13 14:57:07.231745: I tensorflow/compiler/xla/service/service.cc:181]   StreamExecutor device (0): NVIDIA TITAN Xp, Compute Capability 6.1\n",
      "2023-01-13 14:57:07.231751: I tensorflow/compiler/xla/service/service.cc:181]   StreamExecutor device (1): NVIDIA GeForce GTX 970, Compute Capability 5.2\n",
      "2023-01-13 14:57:07.338047: I tensorflow/compiler/mlir/tensorflow/utils/dump_mlir_util.cc:268] disabling MLIR crash reproducer, set env var `MLIR_CRASH_REPRODUCER_DIRECTORY` to enable.\n",
      "2023-01-13 14:57:07.434376: I tensorflow/compiler/jit/xla_compilation_cache.cc:477] Compiled cluster using XLA!  This line is logged at most once for the lifetime of the process.\n"
     ]
    },
    {
     "ename": "KeyboardInterrupt",
     "evalue": "",
     "output_type": "error",
     "traceback": [
      "\u001b[0;31m---------------------------------------------------------------------------\u001b[0m",
      "\u001b[0;31mKeyboardInterrupt\u001b[0m                         Traceback (most recent call last)",
      "Cell \u001b[0;32mIn[15], line 1\u001b[0m\n\u001b[0;32m----> 1\u001b[0m history \u001b[38;5;241m=\u001b[39m \u001b[43mmodel1\u001b[49m\u001b[38;5;241;43m.\u001b[39;49m\u001b[43mfit\u001b[49m\u001b[43m(\u001b[49m\u001b[43mtrain_generator\u001b[49m\u001b[43m,\u001b[49m\u001b[43m \u001b[49m\u001b[43msteps_per_epoch\u001b[49m\u001b[38;5;241;43m=\u001b[39;49m\u001b[43mstep_size_train\u001b[49m\u001b[43m,\u001b[49m\u001b[43m \u001b[49m\u001b[43mepochs\u001b[49m\u001b[38;5;241;43m=\u001b[39;49m\u001b[38;5;241;43m5\u001b[39;49m\u001b[43m,\u001b[49m\u001b[43m \u001b[49m\u001b[43mverbose\u001b[49m\u001b[38;5;241;43m=\u001b[39;49m\u001b[38;5;241;43m1\u001b[39;49m\u001b[43m,\u001b[49m\u001b[43m\\\u001b[49m\n\u001b[1;32m      2\u001b[0m \u001b[43m                     \u001b[49m\u001b[43mcallbacks\u001b[49m\u001b[38;5;241;43m=\u001b[39;49m\u001b[43mcallbacks_list\u001b[49m\u001b[43m,\u001b[49m\u001b[43m \u001b[49m\u001b[43mvalidation_data\u001b[49m\u001b[38;5;241;43m=\u001b[39;49m\u001b[43mval_generator\u001b[49m\u001b[43m,\u001b[49m\u001b[43m \u001b[49m\u001b[43mvalidation_steps\u001b[49m\u001b[38;5;241;43m=\u001b[39;49m\u001b[43mstep_size_val\u001b[49m\u001b[43m,\u001b[49m\u001b[43m\\\u001b[49m\n\u001b[1;32m      3\u001b[0m \u001b[43m                     \u001b[49m\u001b[43mvalidation_freq\u001b[49m\u001b[38;5;241;43m=\u001b[39;49m\u001b[38;5;241;43m1\u001b[39;49m\u001b[43m,\u001b[49m\u001b[43m \u001b[49m\u001b[43mclass_weight\u001b[49m\u001b[38;5;241;43m=\u001b[39;49m\u001b[43mclass_weights\u001b[49m\u001b[43m)\u001b[49m\n",
      "File \u001b[0;32m~/anaconda3/envs/HMI_classification/lib/python3.10/site-packages/keras/utils/traceback_utils.py:65\u001b[0m, in \u001b[0;36mfilter_traceback.<locals>.error_handler\u001b[0;34m(*args, **kwargs)\u001b[0m\n\u001b[1;32m     63\u001b[0m filtered_tb \u001b[38;5;241m=\u001b[39m \u001b[38;5;28;01mNone\u001b[39;00m\n\u001b[1;32m     64\u001b[0m \u001b[38;5;28;01mtry\u001b[39;00m:\n\u001b[0;32m---> 65\u001b[0m     \u001b[38;5;28;01mreturn\u001b[39;00m \u001b[43mfn\u001b[49m\u001b[43m(\u001b[49m\u001b[38;5;241;43m*\u001b[39;49m\u001b[43margs\u001b[49m\u001b[43m,\u001b[49m\u001b[43m \u001b[49m\u001b[38;5;241;43m*\u001b[39;49m\u001b[38;5;241;43m*\u001b[39;49m\u001b[43mkwargs\u001b[49m\u001b[43m)\u001b[49m\n\u001b[1;32m     66\u001b[0m \u001b[38;5;28;01mexcept\u001b[39;00m \u001b[38;5;167;01mException\u001b[39;00m \u001b[38;5;28;01mas\u001b[39;00m e:\n\u001b[1;32m     67\u001b[0m     filtered_tb \u001b[38;5;241m=\u001b[39m _process_traceback_frames(e\u001b[38;5;241m.\u001b[39m__traceback__)\n",
      "File \u001b[0;32m~/anaconda3/envs/HMI_classification/lib/python3.10/site-packages/keras/engine/training.py:1650\u001b[0m, in \u001b[0;36mModel.fit\u001b[0;34m(self, x, y, batch_size, epochs, verbose, callbacks, validation_split, validation_data, shuffle, class_weight, sample_weight, initial_epoch, steps_per_epoch, validation_steps, validation_batch_size, validation_freq, max_queue_size, workers, use_multiprocessing)\u001b[0m\n\u001b[1;32m   1642\u001b[0m \u001b[38;5;28;01mwith\u001b[39;00m tf\u001b[38;5;241m.\u001b[39mprofiler\u001b[38;5;241m.\u001b[39mexperimental\u001b[38;5;241m.\u001b[39mTrace(\n\u001b[1;32m   1643\u001b[0m     \u001b[38;5;124m\"\u001b[39m\u001b[38;5;124mtrain\u001b[39m\u001b[38;5;124m\"\u001b[39m,\n\u001b[1;32m   1644\u001b[0m     epoch_num\u001b[38;5;241m=\u001b[39mepoch,\n\u001b[0;32m   (...)\u001b[0m\n\u001b[1;32m   1647\u001b[0m     _r\u001b[38;5;241m=\u001b[39m\u001b[38;5;241m1\u001b[39m,\n\u001b[1;32m   1648\u001b[0m ):\n\u001b[1;32m   1649\u001b[0m     callbacks\u001b[38;5;241m.\u001b[39mon_train_batch_begin(step)\n\u001b[0;32m-> 1650\u001b[0m     tmp_logs \u001b[38;5;241m=\u001b[39m \u001b[38;5;28;43mself\u001b[39;49m\u001b[38;5;241;43m.\u001b[39;49m\u001b[43mtrain_function\u001b[49m\u001b[43m(\u001b[49m\u001b[43miterator\u001b[49m\u001b[43m)\u001b[49m\n\u001b[1;32m   1651\u001b[0m     \u001b[38;5;28;01mif\u001b[39;00m data_handler\u001b[38;5;241m.\u001b[39mshould_sync:\n\u001b[1;32m   1652\u001b[0m         context\u001b[38;5;241m.\u001b[39masync_wait()\n",
      "File \u001b[0;32m~/anaconda3/envs/HMI_classification/lib/python3.10/site-packages/tensorflow/python/util/traceback_utils.py:150\u001b[0m, in \u001b[0;36mfilter_traceback.<locals>.error_handler\u001b[0;34m(*args, **kwargs)\u001b[0m\n\u001b[1;32m    148\u001b[0m filtered_tb \u001b[38;5;241m=\u001b[39m \u001b[38;5;28;01mNone\u001b[39;00m\n\u001b[1;32m    149\u001b[0m \u001b[38;5;28;01mtry\u001b[39;00m:\n\u001b[0;32m--> 150\u001b[0m   \u001b[38;5;28;01mreturn\u001b[39;00m \u001b[43mfn\u001b[49m\u001b[43m(\u001b[49m\u001b[38;5;241;43m*\u001b[39;49m\u001b[43margs\u001b[49m\u001b[43m,\u001b[49m\u001b[43m \u001b[49m\u001b[38;5;241;43m*\u001b[39;49m\u001b[38;5;241;43m*\u001b[39;49m\u001b[43mkwargs\u001b[49m\u001b[43m)\u001b[49m\n\u001b[1;32m    151\u001b[0m \u001b[38;5;28;01mexcept\u001b[39;00m \u001b[38;5;167;01mException\u001b[39;00m \u001b[38;5;28;01mas\u001b[39;00m e:\n\u001b[1;32m    152\u001b[0m   filtered_tb \u001b[38;5;241m=\u001b[39m _process_traceback_frames(e\u001b[38;5;241m.\u001b[39m__traceback__)\n",
      "File \u001b[0;32m~/anaconda3/envs/HMI_classification/lib/python3.10/site-packages/tensorflow/python/eager/polymorphic_function/polymorphic_function.py:880\u001b[0m, in \u001b[0;36mFunction.__call__\u001b[0;34m(self, *args, **kwds)\u001b[0m\n\u001b[1;32m    877\u001b[0m compiler \u001b[38;5;241m=\u001b[39m \u001b[38;5;124m\"\u001b[39m\u001b[38;5;124mxla\u001b[39m\u001b[38;5;124m\"\u001b[39m \u001b[38;5;28;01mif\u001b[39;00m \u001b[38;5;28mself\u001b[39m\u001b[38;5;241m.\u001b[39m_jit_compile \u001b[38;5;28;01melse\u001b[39;00m \u001b[38;5;124m\"\u001b[39m\u001b[38;5;124mnonXla\u001b[39m\u001b[38;5;124m\"\u001b[39m\n\u001b[1;32m    879\u001b[0m \u001b[38;5;28;01mwith\u001b[39;00m OptionalXlaContext(\u001b[38;5;28mself\u001b[39m\u001b[38;5;241m.\u001b[39m_jit_compile):\n\u001b[0;32m--> 880\u001b[0m   result \u001b[38;5;241m=\u001b[39m \u001b[38;5;28;43mself\u001b[39;49m\u001b[38;5;241;43m.\u001b[39;49m\u001b[43m_call\u001b[49m\u001b[43m(\u001b[49m\u001b[38;5;241;43m*\u001b[39;49m\u001b[43margs\u001b[49m\u001b[43m,\u001b[49m\u001b[43m \u001b[49m\u001b[38;5;241;43m*\u001b[39;49m\u001b[38;5;241;43m*\u001b[39;49m\u001b[43mkwds\u001b[49m\u001b[43m)\u001b[49m\n\u001b[1;32m    882\u001b[0m new_tracing_count \u001b[38;5;241m=\u001b[39m \u001b[38;5;28mself\u001b[39m\u001b[38;5;241m.\u001b[39mexperimental_get_tracing_count()\n\u001b[1;32m    883\u001b[0m without_tracing \u001b[38;5;241m=\u001b[39m (tracing_count \u001b[38;5;241m==\u001b[39m new_tracing_count)\n",
      "File \u001b[0;32m~/anaconda3/envs/HMI_classification/lib/python3.10/site-packages/tensorflow/python/eager/polymorphic_function/polymorphic_function.py:945\u001b[0m, in \u001b[0;36mFunction._call\u001b[0;34m(self, *args, **kwds)\u001b[0m\n\u001b[1;32m    941\u001b[0m     \u001b[38;5;28;01mpass\u001b[39;00m  \u001b[38;5;66;03m# Fall through to cond-based initialization.\u001b[39;00m\n\u001b[1;32m    942\u001b[0m   \u001b[38;5;28;01melse\u001b[39;00m:\n\u001b[1;32m    943\u001b[0m     \u001b[38;5;66;03m# Lifting succeeded, so variables are initialized and we can run the\u001b[39;00m\n\u001b[1;32m    944\u001b[0m     \u001b[38;5;66;03m# no_variable_creation function.\u001b[39;00m\n\u001b[0;32m--> 945\u001b[0m     \u001b[38;5;28;01mreturn\u001b[39;00m \u001b[38;5;28;43mself\u001b[39;49m\u001b[38;5;241;43m.\u001b[39;49m\u001b[43m_no_variable_creation_fn\u001b[49m\u001b[43m(\u001b[49m\u001b[38;5;241;43m*\u001b[39;49m\u001b[43margs\u001b[49m\u001b[43m,\u001b[49m\u001b[43m \u001b[49m\u001b[38;5;241;43m*\u001b[39;49m\u001b[38;5;241;43m*\u001b[39;49m\u001b[43mkwds\u001b[49m\u001b[43m)\u001b[49m\n\u001b[1;32m    946\u001b[0m \u001b[38;5;28;01melse\u001b[39;00m:\n\u001b[1;32m    947\u001b[0m   _, _, filtered_flat_args \u001b[38;5;241m=\u001b[39m (\n\u001b[1;32m    948\u001b[0m       \u001b[38;5;28mself\u001b[39m\u001b[38;5;241m.\u001b[39m_variable_creation_fn\u001b[38;5;241m.\u001b[39m_function_spec  \u001b[38;5;66;03m# pylint: disable=protected-access\u001b[39;00m\n\u001b[1;32m    949\u001b[0m       \u001b[38;5;241m.\u001b[39mcanonicalize_function_inputs(\n\u001b[1;32m    950\u001b[0m           args, kwds))\n",
      "File \u001b[0;32m~/anaconda3/envs/HMI_classification/lib/python3.10/site-packages/tensorflow/python/eager/polymorphic_function/tracing_compiler.py:134\u001b[0m, in \u001b[0;36mTracingCompiler.__call__\u001b[0;34m(self, *args, **kwargs)\u001b[0m\n\u001b[1;32m    131\u001b[0m \u001b[38;5;28;01mwith\u001b[39;00m \u001b[38;5;28mself\u001b[39m\u001b[38;5;241m.\u001b[39m_lock:\n\u001b[1;32m    132\u001b[0m   (concrete_function,\n\u001b[1;32m    133\u001b[0m    filtered_flat_args) \u001b[38;5;241m=\u001b[39m \u001b[38;5;28mself\u001b[39m\u001b[38;5;241m.\u001b[39m_maybe_define_function(args, kwargs)\n\u001b[0;32m--> 134\u001b[0m \u001b[38;5;28;01mreturn\u001b[39;00m \u001b[43mconcrete_function\u001b[49m\u001b[38;5;241;43m.\u001b[39;49m\u001b[43m_call_flat\u001b[49m\u001b[43m(\u001b[49m\n\u001b[1;32m    135\u001b[0m \u001b[43m    \u001b[49m\u001b[43mfiltered_flat_args\u001b[49m\u001b[43m,\u001b[49m\u001b[43m \u001b[49m\u001b[43mcaptured_inputs\u001b[49m\u001b[38;5;241;43m=\u001b[39;49m\u001b[43mconcrete_function\u001b[49m\u001b[38;5;241;43m.\u001b[39;49m\u001b[43mcaptured_inputs\u001b[49m\u001b[43m)\u001b[49m\n",
      "File \u001b[0;32m~/anaconda3/envs/HMI_classification/lib/python3.10/site-packages/tensorflow/python/eager/polymorphic_function/monomorphic_function.py:1745\u001b[0m, in \u001b[0;36mConcreteFunction._call_flat\u001b[0;34m(self, args, captured_inputs, cancellation_manager)\u001b[0m\n\u001b[1;32m   1741\u001b[0m possible_gradient_type \u001b[38;5;241m=\u001b[39m gradients_util\u001b[38;5;241m.\u001b[39mPossibleTapeGradientTypes(args)\n\u001b[1;32m   1742\u001b[0m \u001b[38;5;28;01mif\u001b[39;00m (possible_gradient_type \u001b[38;5;241m==\u001b[39m gradients_util\u001b[38;5;241m.\u001b[39mPOSSIBLE_GRADIENT_TYPES_NONE\n\u001b[1;32m   1743\u001b[0m     \u001b[38;5;129;01mand\u001b[39;00m executing_eagerly):\n\u001b[1;32m   1744\u001b[0m   \u001b[38;5;66;03m# No tape is watching; skip to running the function.\u001b[39;00m\n\u001b[0;32m-> 1745\u001b[0m   \u001b[38;5;28;01mreturn\u001b[39;00m \u001b[38;5;28mself\u001b[39m\u001b[38;5;241m.\u001b[39m_build_call_outputs(\u001b[38;5;28;43mself\u001b[39;49m\u001b[38;5;241;43m.\u001b[39;49m\u001b[43m_inference_function\u001b[49m\u001b[38;5;241;43m.\u001b[39;49m\u001b[43mcall\u001b[49m\u001b[43m(\u001b[49m\n\u001b[1;32m   1746\u001b[0m \u001b[43m      \u001b[49m\u001b[43mctx\u001b[49m\u001b[43m,\u001b[49m\u001b[43m \u001b[49m\u001b[43margs\u001b[49m\u001b[43m,\u001b[49m\u001b[43m \u001b[49m\u001b[43mcancellation_manager\u001b[49m\u001b[38;5;241;43m=\u001b[39;49m\u001b[43mcancellation_manager\u001b[49m\u001b[43m)\u001b[49m)\n\u001b[1;32m   1747\u001b[0m forward_backward \u001b[38;5;241m=\u001b[39m \u001b[38;5;28mself\u001b[39m\u001b[38;5;241m.\u001b[39m_select_forward_and_backward_functions(\n\u001b[1;32m   1748\u001b[0m     args,\n\u001b[1;32m   1749\u001b[0m     possible_gradient_type,\n\u001b[1;32m   1750\u001b[0m     executing_eagerly)\n\u001b[1;32m   1751\u001b[0m forward_function, args_with_tangents \u001b[38;5;241m=\u001b[39m forward_backward\u001b[38;5;241m.\u001b[39mforward()\n",
      "File \u001b[0;32m~/anaconda3/envs/HMI_classification/lib/python3.10/site-packages/tensorflow/python/eager/polymorphic_function/monomorphic_function.py:378\u001b[0m, in \u001b[0;36m_EagerDefinedFunction.call\u001b[0;34m(self, ctx, args, cancellation_manager)\u001b[0m\n\u001b[1;32m    376\u001b[0m \u001b[38;5;28;01mwith\u001b[39;00m _InterpolateFunctionError(\u001b[38;5;28mself\u001b[39m):\n\u001b[1;32m    377\u001b[0m   \u001b[38;5;28;01mif\u001b[39;00m cancellation_manager \u001b[38;5;129;01mis\u001b[39;00m \u001b[38;5;28;01mNone\u001b[39;00m:\n\u001b[0;32m--> 378\u001b[0m     outputs \u001b[38;5;241m=\u001b[39m \u001b[43mexecute\u001b[49m\u001b[38;5;241;43m.\u001b[39;49m\u001b[43mexecute\u001b[49m\u001b[43m(\u001b[49m\n\u001b[1;32m    379\u001b[0m \u001b[43m        \u001b[49m\u001b[38;5;28;43mstr\u001b[39;49m\u001b[43m(\u001b[49m\u001b[38;5;28;43mself\u001b[39;49m\u001b[38;5;241;43m.\u001b[39;49m\u001b[43msignature\u001b[49m\u001b[38;5;241;43m.\u001b[39;49m\u001b[43mname\u001b[49m\u001b[43m)\u001b[49m\u001b[43m,\u001b[49m\n\u001b[1;32m    380\u001b[0m \u001b[43m        \u001b[49m\u001b[43mnum_outputs\u001b[49m\u001b[38;5;241;43m=\u001b[39;49m\u001b[38;5;28;43mself\u001b[39;49m\u001b[38;5;241;43m.\u001b[39;49m\u001b[43m_num_outputs\u001b[49m\u001b[43m,\u001b[49m\n\u001b[1;32m    381\u001b[0m \u001b[43m        \u001b[49m\u001b[43minputs\u001b[49m\u001b[38;5;241;43m=\u001b[39;49m\u001b[43margs\u001b[49m\u001b[43m,\u001b[49m\n\u001b[1;32m    382\u001b[0m \u001b[43m        \u001b[49m\u001b[43mattrs\u001b[49m\u001b[38;5;241;43m=\u001b[39;49m\u001b[43mattrs\u001b[49m\u001b[43m,\u001b[49m\n\u001b[1;32m    383\u001b[0m \u001b[43m        \u001b[49m\u001b[43mctx\u001b[49m\u001b[38;5;241;43m=\u001b[39;49m\u001b[43mctx\u001b[49m\u001b[43m)\u001b[49m\n\u001b[1;32m    384\u001b[0m   \u001b[38;5;28;01melse\u001b[39;00m:\n\u001b[1;32m    385\u001b[0m     outputs \u001b[38;5;241m=\u001b[39m execute\u001b[38;5;241m.\u001b[39mexecute_with_cancellation(\n\u001b[1;32m    386\u001b[0m         \u001b[38;5;28mstr\u001b[39m(\u001b[38;5;28mself\u001b[39m\u001b[38;5;241m.\u001b[39msignature\u001b[38;5;241m.\u001b[39mname),\n\u001b[1;32m    387\u001b[0m         num_outputs\u001b[38;5;241m=\u001b[39m\u001b[38;5;28mself\u001b[39m\u001b[38;5;241m.\u001b[39m_num_outputs,\n\u001b[0;32m   (...)\u001b[0m\n\u001b[1;32m    390\u001b[0m         ctx\u001b[38;5;241m=\u001b[39mctx,\n\u001b[1;32m    391\u001b[0m         cancellation_manager\u001b[38;5;241m=\u001b[39mcancellation_manager)\n",
      "File \u001b[0;32m~/anaconda3/envs/HMI_classification/lib/python3.10/site-packages/tensorflow/python/eager/execute.py:52\u001b[0m, in \u001b[0;36mquick_execute\u001b[0;34m(op_name, num_outputs, inputs, attrs, ctx, name)\u001b[0m\n\u001b[1;32m     50\u001b[0m \u001b[38;5;28;01mtry\u001b[39;00m:\n\u001b[1;32m     51\u001b[0m   ctx\u001b[38;5;241m.\u001b[39mensure_initialized()\n\u001b[0;32m---> 52\u001b[0m   tensors \u001b[38;5;241m=\u001b[39m \u001b[43mpywrap_tfe\u001b[49m\u001b[38;5;241;43m.\u001b[39;49m\u001b[43mTFE_Py_Execute\u001b[49m\u001b[43m(\u001b[49m\u001b[43mctx\u001b[49m\u001b[38;5;241;43m.\u001b[39;49m\u001b[43m_handle\u001b[49m\u001b[43m,\u001b[49m\u001b[43m \u001b[49m\u001b[43mdevice_name\u001b[49m\u001b[43m,\u001b[49m\u001b[43m \u001b[49m\u001b[43mop_name\u001b[49m\u001b[43m,\u001b[49m\n\u001b[1;32m     53\u001b[0m \u001b[43m                                      \u001b[49m\u001b[43minputs\u001b[49m\u001b[43m,\u001b[49m\u001b[43m \u001b[49m\u001b[43mattrs\u001b[49m\u001b[43m,\u001b[49m\u001b[43m \u001b[49m\u001b[43mnum_outputs\u001b[49m\u001b[43m)\u001b[49m\n\u001b[1;32m     54\u001b[0m \u001b[38;5;28;01mexcept\u001b[39;00m core\u001b[38;5;241m.\u001b[39m_NotOkStatusException \u001b[38;5;28;01mas\u001b[39;00m e:\n\u001b[1;32m     55\u001b[0m   \u001b[38;5;28;01mif\u001b[39;00m name \u001b[38;5;129;01mis\u001b[39;00m \u001b[38;5;129;01mnot\u001b[39;00m \u001b[38;5;28;01mNone\u001b[39;00m:\n",
      "\u001b[0;31mKeyboardInterrupt\u001b[0m: "
     ]
    }
   ],
   "source": [
    "history = model1.fit(train_generator, steps_per_epoch=step_size_train, epochs=5, verbose=1,\\\n",
    "                     callbacks=callbacks_list, validation_data=val_generator, validation_steps=step_size_val,\\\n",
    "                     validation_freq=1, class_weight=class_weights)"
   ]
  },
  {
   "cell_type": "markdown",
   "metadata": {},
   "source": [
    "### Multi-threaded\n",
    "This code can cause issues if you try to cancel the code after it has begun running.  You may have to manually kill python processes associated with the workers in order to get the code to stop running.  You may need to adjust the `max_queue_size` and `workers` according to available CPU computational horsepower."
   ]
  },
  {
   "cell_type": "code",
   "execution_count": 15,
   "metadata": {
    "scrolled": false
   },
   "outputs": [
    {
     "name": "stdout",
     "output_type": "stream",
     "text": [
      "Epoch 1/5\n"
     ]
    },
    {
     "name": "stderr",
     "output_type": "stream",
     "text": [
      "2023-01-17 08:03:51.811578: I tensorflow/compiler/xla/stream_executor/cuda/cuda_dnn.cc:428] Loaded cuDNN version 8100\n",
      "2023-01-17 08:04:01.142058: I tensorflow/compiler/xla/service/service.cc:173] XLA service 0x30aa32c0 initialized for platform CUDA (this does not guarantee that XLA will be used). Devices:\n",
      "2023-01-17 08:04:01.142096: I tensorflow/compiler/xla/service/service.cc:181]   StreamExecutor device (0): NVIDIA TITAN Xp, Compute Capability 6.1\n",
      "2023-01-17 08:04:01.142104: I tensorflow/compiler/xla/service/service.cc:181]   StreamExecutor device (1): NVIDIA GeForce GTX 970, Compute Capability 5.2\n",
      "2023-01-17 08:04:01.338224: I tensorflow/compiler/mlir/tensorflow/utils/dump_mlir_util.cc:268] disabling MLIR crash reproducer, set env var `MLIR_CRASH_REPRODUCER_DIRECTORY` to enable.\n"
     ]
    },
    {
     "name": "stdout",
     "output_type": "stream",
     "text": [
      "\r",
      "    1/11865 [..............................] - ETA: 81:12:10 - loss: 3.2400 - TNR: 0.0000e+00 - TPR: 1.0000 - TSS: 0.0000e+00"
     ]
    },
    {
     "name": "stderr",
     "output_type": "stream",
     "text": [
      "2023-01-17 08:04:02.585509: I tensorflow/compiler/jit/xla_compilation_cache.cc:477] Compiled cluster using XLA!  This line is logged at most once for the lifetime of the process.\n"
     ]
    },
    {
     "name": "stdout",
     "output_type": "stream",
     "text": [
      "11865/11865 [==============================] - ETA: 0s - loss: 0.7582 - TNR: 0.7927 - TPR: 0.7570 - TSS: 0.5497"
     ]
    },
    {
     "name": "stderr",
     "output_type": "stream",
     "text": [
      "/home/lboucher/anaconda3/envs/HMI_classification/lib/python3.10/site-packages/keras/engine/training.py:2416: UserWarning: Metric TNR implements a `reset_states()` method; rename it to `reset_state()` (without the final \"s\"). The name `reset_states()` has been deprecated to improve API consistency.\n",
      "  m.reset_state()\n",
      "/home/lboucher/anaconda3/envs/HMI_classification/lib/python3.10/site-packages/keras/engine/training.py:2416: UserWarning: Metric TPR implements a `reset_states()` method; rename it to `reset_state()` (without the final \"s\"). The name `reset_states()` has been deprecated to improve API consistency.\n",
      "  m.reset_state()\n",
      "/home/lboucher/anaconda3/envs/HMI_classification/lib/python3.10/site-packages/keras/engine/training.py:2416: UserWarning: Metric TSS implements a `reset_states()` method; rename it to `reset_state()` (without the final \"s\"). The name `reset_states()` has been deprecated to improve API consistency.\n",
      "  m.reset_state()\n"
     ]
    },
    {
     "name": "stdout",
     "output_type": "stream",
     "text": [
      "\n",
      "Epoch 1: saving model to models/png/model.01_0.40.hdf5\n",
      "11865/11865 [==============================] - 7647s 642ms/step - loss: 0.7582 - TNR: 0.7927 - TPR: 0.7570 - TSS: 0.5497 - val_loss: 0.8241 - val_TNR: 0.5369 - val_TPR: 0.8632 - val_TSS: 0.4001\n",
      "Epoch 2/5\n",
      "11865/11865 [==============================] - ETA: 0s - loss: 0.6960 - TNR: 0.8117 - TPR: 0.7853 - TSS: 0.5969\n",
      "Epoch 2: saving model to models/png/model.02_0.48.hdf5\n",
      "11865/11865 [==============================] - 1562s 131ms/step - loss: 0.6960 - TNR: 0.8117 - TPR: 0.7853 - TSS: 0.5969 - val_loss: 0.5588 - val_TNR: 0.7758 - val_TPR: 0.7083 - val_TSS: 0.4841\n",
      "Epoch 3/5\n",
      "11865/11865 [==============================] - ETA: 0s - loss: 0.6763 - TNR: 0.8176 - TPR: 0.7939 - TSS: 0.6115\n",
      "Epoch 3: saving model to models/png/model.03_0.39.hdf5\n",
      "11865/11865 [==============================] - 1557s 131ms/step - loss: 0.6763 - TNR: 0.8176 - TPR: 0.7939 - TSS: 0.6115 - val_loss: 0.8599 - val_TNR: 0.5447 - val_TPR: 0.8465 - val_TSS: 0.3913\n",
      "Epoch 4/5\n",
      "11865/11865 [==============================] - ETA: 0s - loss: 0.6662 - TNR: 0.8204 - TPR: 0.7977 - TSS: 0.6181\n",
      "Epoch 4: saving model to models/png/model.04_0.47.hdf5\n",
      "11865/11865 [==============================] - 1569s 132ms/step - loss: 0.6662 - TNR: 0.8204 - TPR: 0.7977 - TSS: 0.6181 - val_loss: 0.5634 - val_TNR: 0.7945 - val_TPR: 0.6767 - val_TSS: 0.4712\n",
      "Epoch 5/5\n",
      "11865/11865 [==============================] - ETA: 0s - loss: 0.6559 - TNR: 0.8236 - TPR: 0.8030 - TSS: 0.6266\n",
      "Epoch 5: saving model to models/png/model.05_0.47.hdf5\n",
      "11865/11865 [==============================] - 1559s 131ms/step - loss: 0.6559 - TNR: 0.8236 - TPR: 0.8030 - TSS: 0.6266 - val_loss: 0.5292 - val_TNR: 0.8263 - val_TPR: 0.6422 - val_TSS: 0.4685\n"
     ]
    }
   ],
   "source": [
    "history = model1.fit(train_generator, steps_per_epoch=step_size_train, epochs=5, verbose=1,\\\n",
    "                     callbacks=callbacks_list, validation_data=val_generator, validation_steps=step_size_val,\\\n",
    "                     validation_freq=1, class_weight=class_weights,\\\n",
    "                    max_queue_size=100, workers=20, use_multiprocessing=True)"
   ]
  },
  {
   "cell_type": "markdown",
   "metadata": {},
   "source": [
    "## Evaluate"
   ]
  },
  {
   "cell_type": "markdown",
   "metadata": {},
   "source": [
    "The following code will evaluate the transfer learned model on the test dataset.  Change the variable `model_file` to point to the `hdf5` file that you wish to evaluate the performance of."
   ]
  },
  {
   "cell_type": "code",
   "execution_count": 25,
   "metadata": {},
   "outputs": [],
   "source": [
    "model_file = 'models/png/model.02_0.48.hdf5'\n",
    "model1 = keras.models.load_model(model_file, custom_objects={'TNR': TNR(),\\\n",
    "                                                       'TPR': TPR(),\\\n",
    "                                                       'TSS': TSS(),\\\n",
    "                                                       'HSS': HSS()})\n",
    "model1.compile(loss='categorical_crossentropy', optimizer=adam_opt,\\\n",
    "               metrics=[TNR(), TPR(), TSS(), HSS()])"
   ]
  },
  {
   "cell_type": "markdown",
   "metadata": {},
   "source": [
    "### Single threaded"
   ]
  },
  {
   "cell_type": "code",
   "execution_count": 27,
   "metadata": {},
   "outputs": [
    {
     "name": "stdout",
     "output_type": "stream",
     "text": [
      "1481/1481 [==============================] - 165s 111ms/step - loss: 0.5018 - TNR: 0.7980 - TPR: 0.7345 - TSS: 0.5325 - HSS: 0.4636\n"
     ]
    },
    {
     "data": {
      "text/plain": [
       "[0.5018448829650879,\n",
       " 0.7980331778526306,\n",
       " 0.7344722151756287,\n",
       " 0.5325053930282593,\n",
       " 0.4636412262916565]"
      ]
     },
     "execution_count": 27,
     "metadata": {},
     "output_type": "execute_result"
    }
   ],
   "source": [
    "model1.evaluate(test_generator)"
   ]
  },
  {
   "cell_type": "markdown",
   "metadata": {},
   "source": [
    "### Multi threaded\n",
    "This code can cause issues if you try to cancel the code after it has begun running.  You may have to manually kill python processes associated with the workers in order to get the code to stop running.  You may need to adjust the `max_queue_size` and `workers` according to available CPU computational horsepower."
   ]
  },
  {
   "cell_type": "code",
   "execution_count": 26,
   "metadata": {},
   "outputs": [
    {
     "name": "stdout",
     "output_type": "stream",
     "text": [
      "1481/1481 [==============================] - 178s 119ms/step - loss: 0.5018 - TNR: 0.7980 - TPR: 0.7345 - TSS: 0.5325 - HSS: 0.4636\n"
     ]
    },
    {
     "data": {
      "text/plain": [
       "[0.5018448829650879,\n",
       " 0.7980331778526306,\n",
       " 0.7344722151756287,\n",
       " 0.5325053930282593,\n",
       " 0.4636412262916565]"
      ]
     },
     "execution_count": 26,
     "metadata": {},
     "output_type": "execute_result"
    }
   ],
   "source": [
    "model1.evaluate(test_generator,max_queue_size=100, workers=20, use_multiprocessing=True)"
   ]
  },
  {
   "cell_type": "code",
   "execution_count": null,
   "metadata": {},
   "outputs": [],
   "source": []
  }
 ],
 "metadata": {
  "kernelspec": {
   "display_name": "Python 3 (ipykernel)",
   "language": "python",
   "name": "python3"
  },
  "language_info": {
   "codemirror_mode": {
    "name": "ipython",
    "version": 3
   },
   "file_extension": ".py",
   "mimetype": "text/x-python",
   "name": "python",
   "nbconvert_exporter": "python",
   "pygments_lexer": "ipython3",
   "version": "3.10.8"
  }
 },
 "nbformat": 4,
 "nbformat_minor": 2
}
