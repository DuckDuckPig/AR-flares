{
 "cells": [
  {
   "cell_type": "markdown",
   "metadata": {},
   "source": [
    "# VGG Transfer Learning for Solar Flare Prediction"
   ]
  },
  {
   "cell_type": "markdown",
   "metadata": {},
   "source": [
    "This code has only been tested on a GPU using tensorflow, but should work and/or be adaptable to CPU implementation (although the computation time would be excessive for CPU implementation)."
   ]
  },
  {
   "cell_type": "code",
   "execution_count": null,
   "metadata": {},
   "outputs": [],
   "source": [
    "import numpy as np\n",
    "import pandas as pd\n",
    "from astropy.io import fits\n",
    "import skimage.transform\n",
    "\n",
    "import tensorflow.keras as keras"
   ]
  },
  {
   "cell_type": "markdown",
   "metadata": {},
   "source": [
    "The following code cell can avoid cuDNN errors resulting from running out of GPU memory by allocating only what is needed at any given time.  This may be needed, especially if you are sharing your GPU with other processes (e.g., running your monitor)."
   ]
  },
  {
   "cell_type": "code",
   "execution_count": null,
   "metadata": {},
   "outputs": [],
   "source": [
    "# # This is to avoid CuDNN errors resulting from running out of GPU memory\n",
    "# # This allocates only what is needed at any given time\n",
    "# gpus = tf.config.list_physical_devices('GPU')\n",
    "# tf.config.experimental.set_memory_growth(gpus[0], True)"
   ]
  },
  {
   "cell_type": "markdown",
   "metadata": {},
   "source": [
    "Set the following flag to designate whether you are working with `.png` files or `.fits` files.  This flag will be used to use the correct dataloaders for each file type.  Note that the use of `.fits` files requires the use of a specialized dataloader (included below)."
   ]
  },
  {
   "cell_type": "code",
   "execution_count": null,
   "metadata": {},
   "outputs": [],
   "source": [
    "image_type = 'png' # 'png' or 'fits'"
   ]
  },
  {
   "cell_type": "markdown",
   "metadata": {},
   "source": [
    "Instantiate the VGG16 architecture pretrained on imagenet."
   ]
  },
  {
   "cell_type": "code",
   "execution_count": null,
   "metadata": {},
   "outputs": [],
   "source": [
    "model1 = keras.applications.vgg16.VGG16(include_top=True,weights='imagenet')"
   ]
  },
  {
   "cell_type": "markdown",
   "metadata": {},
   "source": [
    "Replace the output layer with a 2-class softmax layer."
   ]
  },
  {
   "cell_type": "code",
   "execution_count": null,
   "metadata": {},
   "outputs": [],
   "source": [
    "model1 = keras.models.Model(inputs=model1.input,outputs=model1.layers[-2].output) # amputate last dense layer\n",
    "new_output = model1.output # take the output as currently defined\n",
    "new_output = keras.layers.Dense(2,activation='softmax')(new_output) # operate on that output with another dense layer\n",
    "model1 = keras.models.Model(inputs=model1.input,outputs=new_output) # define a new model with the new output"
   ]
  },
  {
   "cell_type": "markdown",
   "metadata": {},
   "source": [
    "Freeze all layers except the last layer."
   ]
  },
  {
   "cell_type": "code",
   "execution_count": null,
   "metadata": {},
   "outputs": [],
   "source": [
    "for layer in model1.layers[:-1]:\n",
    "    layer.trainable=False"
   ]
  },
  {
   "cell_type": "markdown",
   "metadata": {},
   "source": [
    "## Custom Data Generator for fits files"
   ]
  },
  {
   "cell_type": "markdown",
   "metadata": {},
   "source": [
    "The following class defines a custom data generator for fits files.  \n",
    "\n",
    "Approach taken from https://medium.com/analytics-vidhya/write-your-own-custom-data-generator-for-tensorflow-keras-1252b64e41c3\n",
    "\n",
    "From https://www.tensorflow.org/api_docs/python/tf/keras/utils/Sequence: \"Sequence are a safer way to do multiprocessing. This structure guarantees that the network will only train once on each sample per epoch which is not the case with generators.\""
   ]
  },
  {
   "cell_type": "code",
   "execution_count": null,
   "metadata": {},
   "outputs": [],
   "source": [
    "class FitsDataGen(keras.utils.Sequence):\n",
    "    # The input to the data generator will be the dataframe and which columns to use\n",
    "    def __init__(self, df, X_col, y_col,\n",
    "                 directory,\n",
    "                 batch_size,\n",
    "                 input_size=(224, 224, 3),\n",
    "                 shuffle=True):\n",
    "        \n",
    "        self.df = df.copy() # dataframe\n",
    "        self.X_col = X_col # column for X data (filename)\n",
    "        self.y_col = y_col # column for y data (class label)\n",
    "        self.directory = directory # base directory for data\n",
    "        self.batch_size = batch_size # batch size\n",
    "        self.input_size = input_size # size expected by network (224,224,3) for VGG\n",
    "        self.shuffle = shuffle # whether to shuffle batches\n",
    "        \n",
    "        self.n = len(self.df) # number of data points\n",
    "        self.nclasses = df[y_col].nunique() # number of classes\n",
    "            \n",
    "    def on_epoch_end(self):\n",
    "        if self.shuffle:\n",
    "            self.df = self.df.sample(frac=1).reset_index(drop=True)\n",
    "    \n",
    "    def __get_input(self, path, directory, input_size):\n",
    "    \n",
    "        with fits.open(directory+path) as img: # read in fits image\n",
    "            img.verify('silentfix')\n",
    "            img = img[1].data\n",
    "            \n",
    "        img = np.expand_dims(img,axis=2) # copy single channel to three to create rgb dimensioned image\n",
    "        img = np.tile(img,(1,1,3))\n",
    "        \n",
    "        # scale to input_size (expected dimensions for input to network)\n",
    "        img = skimage.transform.resize(img, (input_size[0],input_size[1]), order=1, mode='reflect',\\\n",
    "                                       clip=True, preserve_range=True, anti_aliasing=True)\n",
    "        \n",
    "        # scale intensities to range [0,255] as expected by VGG preprocessing function\n",
    "        # can cheat a bit here and treat each channel the same since these are grayscale images\n",
    "        img = img + 5978.7 # -5978.7 is minimum of entire magnetogram dataset\n",
    "        img = img/(2*5978.7)*255 # +5978.7 is maximum of entire magnetogram dataset        \n",
    "        \n",
    "        img = keras.applications.vgg16.preprocess_input(img) # preprocess according to VGG expectations\n",
    "\n",
    "        return img\n",
    "    \n",
    "    def __get_output(self, label, num_classes):\n",
    "        return keras.utils.to_categorical(label, num_classes=num_classes)\n",
    "    \n",
    "    def __get_data(self, batches):\n",
    "        # Generates data containing batch_size samples\n",
    "\n",
    "        path_batch = batches[self.X_col]\n",
    "        \n",
    "        label_batch = batches[self.y_col]\n",
    "\n",
    "        X_batch = np.asarray([self.__get_input(x, self.directory, self.input_size) for x in path_batch])\n",
    "\n",
    "        y_batch = np.asarray([self.__get_output(y, self.nclasses) for y in label_batch])\n",
    "        \n",
    "        return X_batch, y_batch\n",
    "    \n",
    "    def __getitem__(self, index):\n",
    "        \n",
    "        batches = self.df[index * self.batch_size:(index + 1) * self.batch_size]\n",
    "        X, y = self.__get_data(batches)        \n",
    "        return X, y\n",
    "    \n",
    "    def __len__(self):\n",
    "        return self.n // self.batch_size"
   ]
  },
  {
   "cell_type": "markdown",
   "metadata": {},
   "source": [
    "Read in dataframe specifying file locations for train, val, test.  Change these locations as needed."
   ]
  },
  {
   "cell_type": "code",
   "execution_count": null,
   "metadata": {},
   "outputs": [],
   "source": [
    "if image_type=='fits':\n",
    "    train_df = pd.read_csv('Train_Data_by_AR.csv',dtype=str)\n",
    "    val_df = pd.read_csv('Validation_Data_by_AR.csv',dtype=str)\n",
    "    test_df = pd.read_csv('Test_Data_by_AR.csv',dtype=str)"
   ]
  },
  {
   "cell_type": "markdown",
   "metadata": {},
   "source": [
    "Create data generators using custom class defined above.  Change the `directory` parameter to point to the base directory for the fits files.  It is assumed that the directory structure underneath `directory` is of the form `XXXX/` where `XXXX` are four digit AR region numbers and that each `XXXX/` directory contains all `.fits` files associated with that AR."
   ]
  },
  {
   "cell_type": "code",
   "execution_count": null,
   "metadata": {},
   "outputs": [],
   "source": [
    "if image_type=='fits':\n",
    "    train_generator = FitsDataGen(train_df, X_col='filename', y_col='class',\\\n",
    "                                  directory='/mnt/solar_flares/AR_Dataset/Lat60_Lon60_Nans0/',\\\n",
    "                                  batch_size=64, input_size=(224,224,3), shuffle=True)\n",
    "    val_generator = FitsDataGen(val_df, X_col='filename', y_col='class',\\\n",
    "                                directory='/mnt/solar_flares/AR_Dataset/Lat60_Lon60_Nans0/',\\\n",
    "                                batch_size=64, input_size=(224,224,3), shuffle=True)\n",
    "    test_generator = FitsDataGen(test_df, X_col='filename', y_col='class',\\\n",
    "                                directory='/mnt/solar_flares/AR_Dataset/Lat60_Lon60_Nans0/',\\\n",
    "                                batch_size=64, input_size=(224,224,3), shuffle=True)"
   ]
  },
  {
   "cell_type": "markdown",
   "metadata": {},
   "source": [
    "## Dataframe approach for png files"
   ]
  },
  {
   "cell_type": "markdown",
   "metadata": {},
   "source": [
    "The following cells implement a data generator for `png` files using the native `ImageDataGenerator` class in `tensorflow.keras`."
   ]
  },
  {
   "cell_type": "markdown",
   "metadata": {},
   "source": [
    "Read in dataframe specifying file locations for train, val, test.  Change these locations as needed."
   ]
  },
  {
   "cell_type": "code",
   "execution_count": null,
   "metadata": {},
   "outputs": [],
   "source": [
    "if image_type=='png':\n",
    "    train_df = pd.read_csv('Train_Data_by_AR_png_224.csv',dtype=str)\n",
    "    val_df = pd.read_csv('Validation_Data_by_AR_png_224.csv',dtype=str)\n",
    "    test_df = pd.read_csv('Test_Data_by_AR_png_224.csv',dtype=str)"
   ]
  },
  {
   "cell_type": "markdown",
   "metadata": {},
   "source": [
    "Create data generators using the `ImageDataGenerator` class. Change the directory parameter to point to the base directory for the png files. It is assumed that the directory structure underneath directory is of the form `XXXX/` where `XXXX` are four digit AR region numbers and that each `XXXX/` directory contains all .png files associated with that AR."
   ]
  },
  {
   "cell_type": "markdown",
   "metadata": {},
   "source": [
    "Note--this code cell can take a long time to run the first time."
   ]
  },
  {
   "cell_type": "code",
   "execution_count": null,
   "metadata": {},
   "outputs": [],
   "source": [
    "if image_type=='png':\n",
    "    train_datagen = keras.preprocessing.image.ImageDataGenerator(preprocessing_function=keras.applications.vgg16.preprocess_input)\n",
    "    train_generator = train_datagen.flow_from_dataframe(dataframe=train_df,\\\n",
    "                                                        directory='/mnt/solar_flares/AR_Dataset/Lat60_Lon60_Nans0_png_224/',\\\n",
    "                                                        xcol='filename',y_col='class',\\\n",
    "                                                        target_size=(224,224), color_mode='rgb',\\\n",
    "                                                        batch_size=64, class_mode='categorical',\\\n",
    "                                                        shuffle=True)\n",
    "    val_datagen = keras.preprocessing.image.ImageDataGenerator(preprocessing_function=keras.applications.vgg16.preprocess_input)\n",
    "    val_generator = val_datagen.flow_from_dataframe(dataframe=val_df,\\\n",
    "                                                    directory = '/mnt/solar_flares/AR_Dataset/Lat60_Lon60_Nans0_png_224/',\\\n",
    "                                                    xcol='filename',ycol='class',\\\n",
    "                                                    target_size=(224,224), color_mode='rgb',\\\n",
    "                                                        batch_size=64, class_mode='categorical',\\\n",
    "                                                shuffle=True)\n",
    "    test_datagen = keras.preprocessing.image.ImageDataGenerator(preprocessing_function=keras.applications.vgg16.preprocess_input)\n",
    "    test_generator = test_datagen.flow_from_dataframe(dataframe=test_df,\\\n",
    "                                                    directory = '/mnt/solar_flares/AR_Dataset/Lat60_Lon60_Nans0_png_224/',\\\n",
    "                                                    xcol='filename',ycol='class',\\\n",
    "                                                    target_size=(224,224), color_mode='rgb',\\\n",
    "                                                    batch_size=64, class_mode='categorical',\\\n",
    "                                                    shuffle=True)"
   ]
  },
  {
   "cell_type": "markdown",
   "metadata": {},
   "source": [
    "## Training Setup"
   ]
  },
  {
   "cell_type": "markdown",
   "metadata": {},
   "source": [
    "Define custom metrics for true positive rate (TPR), true negative rate (TNR), Heidke Skill Score (HSS), and True Skill Statistic (TSS).  It is necessary to define these custom metrics to appropriately report batch to batch.  Since they are not linear metrics, you cannot simply average the batch reported metric.\n",
    "\n",
    "Adapted from section \"Creating Custom Metrics\" at https://keras.io/api/metrics/"
   ]
  },
  {
   "cell_type": "code",
   "execution_count": null,
   "metadata": {},
   "outputs": [],
   "source": [
    "# custom metrics since these will not average batch to batch\n",
    "class TNR(keras.metrics.Metric):\n",
    "    def __init__(self, name='TNR', **kwargs):\n",
    "        super(TNR, self).__init__(name=name, **kwargs)\n",
    "        self.TN = self.add_weight(name='TN', initializer='zeros')\n",
    "        self.FP = self.add_weight(name='FP', initializer='zeros')\n",
    "        self.TNR = self.add_weight(name='TNR', initializer='zeros')\n",
    "\n",
    "    def update_state(self, y_true, y_pred, sample_weight=None):\n",
    "        y_true = keras.backend.argmax(y_true)\n",
    "        y_pred = keras.backend.argmax(y_pred)\n",
    "        neg_y_true = 1 - y_true\n",
    "        neg_y_pred = 1 - y_pred\n",
    "        fp = keras.backend.cast(keras.backend.sum(neg_y_true * y_pred),'float32')\n",
    "        tn = keras.backend.cast(keras.backend.sum(neg_y_true * neg_y_pred),'float32')\n",
    "        \n",
    "        self.TN.assign_add(tn)\n",
    "        self.FP.assign_add(fp)\n",
    "        \n",
    "        tnr = self.TN / (self.TN + self.FP + keras.backend.epsilon())\n",
    "        \n",
    "        self.TNR.assign(tnr)\n",
    "\n",
    "    def result(self):\n",
    "        return self.TNR\n",
    "\n",
    "    def reset_states(self):\n",
    "        self.TN.assign(0)\n",
    "        self.FP.assign(0)\n",
    "        self.TNR.assign(0)\n",
    "        \n",
    "class TPR(keras.metrics.Metric):\n",
    "    def __init__(self, name='TPR', **kwargs):\n",
    "        super(TPR, self).__init__(name=name, **kwargs)\n",
    "        self.TP = self.add_weight(name='TP', initializer='zeros')\n",
    "        self.FN = self.add_weight(name='FN', initializer='zeros')\n",
    "        self.TPR = self.add_weight(name='TPR', initializer='zeros')\n",
    "\n",
    "    def update_state(self, y_true, y_pred, sample_weight=None):\n",
    "        y_true = keras.backend.argmax(y_true)\n",
    "        y_pred = keras.backend.argmax(y_pred)\n",
    "        neg_y_pred = 1 - y_pred\n",
    "        fn = keras.backend.cast(keras.backend.sum(y_true * neg_y_pred),'float32')\n",
    "        tp = keras.backend.cast(keras.backend.sum(y_true * y_pred),'float32')\n",
    "        \n",
    "        self.TP.assign_add(tp)\n",
    "        self.FN.assign_add(fn)\n",
    "        \n",
    "        tpr = self.TP / (self.TP + self.FN + keras.backend.epsilon())\n",
    "        \n",
    "        self.TPR.assign(tpr)\n",
    "\n",
    "    def result(self):\n",
    "        return self.TPR\n",
    "\n",
    "    def reset_states(self):\n",
    "        self.TP.assign(0)\n",
    "        self.FN.assign(0)\n",
    "        self.TPR.assign(0)\n",
    "        \n",
    "class TSS(keras.metrics.Metric):\n",
    "    def __init__(self, name='TSS', **kwargs):\n",
    "        super(TSS, self).__init__(name=name, **kwargs)\n",
    "        self.TP = self.add_weight(name='TP', initializer='zeros')\n",
    "        self.TN = self.add_weight(name='TN', initializer='zeros')\n",
    "        self.FP = self.add_weight(name='FP', initializer='zeros')\n",
    "        self.FN = self.add_weight(name='FN', initializer='zeros')\n",
    "        self.TSS = self.add_weight(name='TSS', initializer='zeros')\n",
    "\n",
    "    def update_state(self, y_true, y_pred, sample_weight=None):\n",
    "        y_true = keras.backend.argmax(y_true)\n",
    "        y_pred = keras.backend.argmax(y_pred)\n",
    "        neg_y_true = 1 - y_true\n",
    "        neg_y_pred = 1 - y_pred\n",
    "        fp = keras.backend.cast(keras.backend.sum(neg_y_true * y_pred),'float32')\n",
    "        tn = keras.backend.cast(keras.backend.sum(neg_y_true * neg_y_pred),'float32')\n",
    "        fn = keras.backend.cast(keras.backend.sum(y_true * neg_y_pred),'float32')\n",
    "        tp = keras.backend.cast(keras.backend.sum(y_true * y_pred),'float32')\n",
    "        \n",
    "        self.TP.assign_add(tp)\n",
    "        self.TN.assign_add(tn)\n",
    "        self.FP.assign_add(fp)\n",
    "        self.FN.assign_add(fn)\n",
    "        \n",
    "        tnr = self.TN / (self.TN + self.FP + keras.backend.epsilon())\n",
    "        tpr = self.TP / (self.TP + self.FN + keras.backend.epsilon())\n",
    "        tss = tpr + tnr - 1\n",
    "       \n",
    "        self.TSS.assign(tss)\n",
    "\n",
    "    def result(self):\n",
    "        return self.TSS\n",
    "\n",
    "    def reset_states(self):\n",
    "        self.TP.assign(0)\n",
    "        self.TN.assign(0)\n",
    "        self.FP.assign(0)\n",
    "        self.FN.assign(0)\n",
    "        self.TSS.assign(0)\n",
    "        \n",
    "class HSS(keras.metrics.Metric):\n",
    "    def __init__(self, name='HSS', **kwargs):\n",
    "        super(HSS, self).__init__(name=name, **kwargs)\n",
    "        self.TP = self.add_weight(name='TP', initializer='zeros')\n",
    "        self.TN = self.add_weight(name='TN', initializer='zeros')\n",
    "        self.FP = self.add_weight(name='FP', initializer='zeros')\n",
    "        self.FN = self.add_weight(name='FN', initializer='zeros')\n",
    "        self.HSS = self.add_weight(name='HSS', initializer='zeros')\n",
    "\n",
    "    def update_state(self, y_true, y_pred, sample_weight=None):\n",
    "        y_true = keras.backend.argmax(y_true)\n",
    "        y_pred = keras.backend.argmax(y_pred)\n",
    "        neg_y_true = 1 - y_true\n",
    "        neg_y_pred = 1 - y_pred\n",
    "        fp = keras.backend.cast(keras.backend.sum(neg_y_true * y_pred),'float32')\n",
    "        tn = keras.backend.cast(keras.backend.sum(neg_y_true * neg_y_pred),'float32')\n",
    "        fn = keras.backend.cast(keras.backend.sum(y_true * neg_y_pred),'float32')\n",
    "        tp = keras.backend.cast(keras.backend.sum(y_true * y_pred),'float32')\n",
    "        \n",
    "        self.TP.assign_add(tp)\n",
    "        self.TN.assign_add(tn)\n",
    "        self.FP.assign_add(fp)\n",
    "        self.FN.assign_add(fn)\n",
    "        \n",
    "        hss = 2*(tp*tn-fn*fp)/((tp+fn)*(fn+tn)+(tp+fp)*(fp+tn))\n",
    "       \n",
    "        self.HSS.assign(hss)\n",
    "\n",
    "    def result(self):\n",
    "        return self.HSS\n",
    "\n",
    "    def reset_states(self):\n",
    "        self.TP.assign(0)\n",
    "        self.TN.assign(0)\n",
    "        self.FP.assign(0)\n",
    "        self.FN.assign(0)\n",
    "        self.HSS.assign(0)\n",
    "        \n",
    "class TN(keras.metrics.Metric):\n",
    "    def __init__(self, name='TN', **kwargs):\n",
    "        super(TN, self).__init__(name=name, **kwargs)\n",
    "        self.TN = self.add_weight(name='TN', initializer='zeros')\n",
    "\n",
    "    def update_state(self, y_true, y_pred, sample_weight=None):\n",
    "        y_true = keras.backend.argmax(y_true)\n",
    "        y_pred = keras.backend.argmax(y_pred)\n",
    "        neg_y_true = 1 - y_true\n",
    "        neg_y_pred = 1 - y_pred\n",
    "        tn = keras.backend.cast(keras.backend.sum(neg_y_true * neg_y_pred),'float32')\n",
    "\n",
    "        self.TN.assign_add(tn)\n",
    "\n",
    "    def result(self):\n",
    "        return self.TN\n",
    "\n",
    "    def reset_states(self):\n",
    "        self.TN.assign(0)\n",
    "        \n",
    "class TP(keras.metrics.Metric):\n",
    "    def __init__(self, name='TP', **kwargs):\n",
    "        super(TP, self).__init__(name=name, **kwargs)\n",
    "        self.TP = self.add_weight(name='FP', initializer='zeros')\n",
    "\n",
    "    def update_state(self, y_true, y_pred, sample_weight=None):\n",
    "        y_true = keras.backend.argmax(y_true)\n",
    "        y_pred = keras.backend.argmax(y_pred)\n",
    "        tp = keras.backend.cast(keras.backend.sum(y_true * y_pred),'float32')\n",
    "\n",
    "        self.TP.assign_add(tp)\n",
    "\n",
    "    def result(self):\n",
    "        return self.TP\n",
    "\n",
    "    def reset_states(self):\n",
    "        self.TP.assign(0)\n",
    "        \n",
    "class FN(keras.metrics.Metric):\n",
    "    def __init__(self, name='FN', **kwargs):\n",
    "        super(FN, self).__init__(name=name, **kwargs)\n",
    "        self.FN = self.add_weight(name='FN', initializer='zeros')\n",
    "\n",
    "    def update_state(self, y_true, y_pred, sample_weight=None):\n",
    "        y_true = keras.backend.argmax(y_true)\n",
    "        y_pred = keras.backend.argmax(y_pred)\n",
    "        neg_y_pred = 1 - y_pred\n",
    "        fn = keras.backend.cast(keras.backend.sum(y_true * neg_y_pred),'float32')\n",
    "\n",
    "        self.FN.assign_add(fn)\n",
    "\n",
    "    def result(self):\n",
    "        return self.FN\n",
    "\n",
    "    def reset_states(self):\n",
    "        self.FN.assign(0)\n",
    "        \n",
    "class FP(keras.metrics.Metric):\n",
    "    def __init__(self, name='FP', **kwargs):\n",
    "        super(FP, self).__init__(name=name, **kwargs)\n",
    "        self.FP = self.add_weight(name='FP', initializer='zeros')\n",
    "\n",
    "    def update_state(self, y_true, y_pred, sample_weight=None):\n",
    "        y_true = keras.backend.argmax(y_true)\n",
    "        y_pred = keras.backend.argmax(y_pred)\n",
    "        neg_y_true = 1 - y_true\n",
    "        fp = keras.backend.cast(keras.backend.sum(neg_y_true * y_pred),'float32')\n",
    "\n",
    "        self.FP.assign_add(fp)\n",
    "\n",
    "    def result(self):\n",
    "        return self.FP\n",
    "\n",
    "    def reset_states(self):\n",
    "        self.FP.assign(0)"
   ]
  },
  {
   "cell_type": "markdown",
   "metadata": {},
   "source": [
    "Define optimizer."
   ]
  },
  {
   "cell_type": "code",
   "execution_count": null,
   "metadata": {},
   "outputs": [],
   "source": [
    "adam_opt = keras.optimizers.Adam(learning_rate=0.001)\n",
    "model1.compile(loss='categorical_crossentropy', optimizer=adam_opt,\\\n",
    "               metrics=[TNR(), TPR(), TSS()])"
   ]
  },
  {
   "cell_type": "markdown",
   "metadata": {},
   "source": [
    "Set up remaining training parameters.  Set `results_dir` to desired output directory.  This is where models will be saved each epoch.  To save only the best model, change the `save_best_only` parameter in the `checkpoint` variable to `True`.  The classes are weighted such that non-flares (majority) are weighted 1 and flares (minority) are weighted as $N_n/N_f$ where $N_n$ is the number of non-flaring examples and $N_f$ is the number of flaring examples."
   ]
  },
  {
   "cell_type": "code",
   "execution_count": null,
   "metadata": {},
   "outputs": [],
   "source": [
    "results_dir = 'png'\n",
    "\n",
    "filepath = 'models/'+results_dir+'/model.{epoch:02d}_{val_TSS:.2f}.hdf5'\n",
    "checkpoint = keras.callbacks.ModelCheckpoint(filepath, monitor='val_TSS', verbose=1, save_best_only=False, mode='max')\n",
    "callbacks_list = [checkpoint]\n",
    "\n",
    "step_size_train = np.ceil(train_generator.n/train_generator.batch_size) \n",
    "step_size_val = np.ceil(val_generator.n/val_generator.batch_size)\n",
    "\n",
    "# the following assumes that 0 is the majority class\n",
    "class_weights = {0:1., 1: (train_df['class']=='0').sum()/(train_df['class']=='1').sum()}"
   ]
  },
  {
   "cell_type": "markdown",
   "metadata": {},
   "source": [
    "## Training"
   ]
  },
  {
   "cell_type": "markdown",
   "metadata": {},
   "source": [
    "Especially for the fits dataset, the file I/O will likely be a significant bottleneck.  Code is provided below for both single-threaded implementation and multi-threaded implementation.  The multi-threaded implementation can case nondeterministic deadlocks (as will likely be reported as a warning by tensorflow), but can significantly speed up training."
   ]
  },
  {
   "cell_type": "markdown",
   "metadata": {},
   "source": [
    "### Single threaded"
   ]
  },
  {
   "cell_type": "code",
   "execution_count": null,
   "metadata": {
    "scrolled": false
   },
   "outputs": [],
   "source": [
    "history = model1.fit(train_generator, steps_per_epoch=step_size_train, epochs=5, verbose=1,\\\n",
    "                     callbacks=callbacks_list, validation_data=val_generator, validation_steps=step_size_val,\\\n",
    "                     validation_freq=1, class_weight=class_weights)"
   ]
  },
  {
   "cell_type": "markdown",
   "metadata": {},
   "source": [
    "### Multi-threaded\n",
    "This code can cause issues if you try to cancel the code after it has begun running.  You may have to manually kill python processes associated with the workers in order to get the code to stop running.  You may need to adjust the `max_queue_size` and `workers` according to available CPU computational horsepower."
   ]
  },
  {
   "cell_type": "code",
   "execution_count": null,
   "metadata": {
    "scrolled": false
   },
   "outputs": [],
   "source": [
    "# history = model1.fit(train_generator, steps_per_epoch=step_size_train, epochs=5, verbose=1,\\\n",
    "#                      callbacks=callbacks_list, validation_data=val_generator, validation_steps=step_size_val,\\\n",
    "#                      validation_freq=1, class_weight=class_weights,\\\n",
    "#                     max_queue_size=100, workers=20, use_multiprocessing=True)"
   ]
  },
  {
   "cell_type": "markdown",
   "metadata": {},
   "source": [
    "## Evaluate"
   ]
  },
  {
   "cell_type": "markdown",
   "metadata": {},
   "source": [
    "The following code will evaluate the transfer learned model on the test dataset.  Change the variable `model_file` to point to the `hdf5` file that you wish to evaluate the performance of."
   ]
  },
  {
   "cell_type": "code",
   "execution_count": null,
   "metadata": {},
   "outputs": [],
   "source": [
    "model_file = 'fits/model.02_0.51.hdf5'\n",
    "model1 = keras.models.load_model(model_file, custom_objects={'TNR': TNR(),\\\n",
    "                                                       'TPR': TPR(),\\\n",
    "                                                       'TSS': TSS(),\\\n",
    "                                                       'HSS': HSS()})\n",
    "model1.compile(loss='categorical_crossentropy', optimizer=adam_opt,\\\n",
    "               metrics=[TNR(), TPR(), TSS(), HSS()])"
   ]
  },
  {
   "cell_type": "code",
   "execution_count": null,
   "metadata": {},
   "outputs": [],
   "source": [
    "model1.evaluate(test_generator,max_queue_size=100, workers=20, use_multiprocessing=True, return_dict=True)"
   ]
  },
  {
   "cell_type": "code",
   "execution_count": null,
   "metadata": {},
   "outputs": [],
   "source": []
  }
 ],
 "metadata": {
  "kernelspec": {
   "display_name": "Python 3 (ipykernel)",
   "language": "python",
   "name": "python3"
  },
  "language_info": {
   "codemirror_mode": {
    "name": "ipython",
    "version": 3
   },
   "file_extension": ".py",
   "mimetype": "text/x-python",
   "name": "python",
   "nbconvert_exporter": "python",
   "pygments_lexer": "ipython3",
   "version": "3.10.8"
  }
 },
 "nbformat": 4,
 "nbformat_minor": 2
}
